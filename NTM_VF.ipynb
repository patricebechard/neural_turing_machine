{
 "cells": [
  {
   "cell_type": "markdown",
   "metadata": {
    "colab_type": "text",
    "id": "9LoJ75lbgSUl"
   },
   "source": [
    "# Neural Turing Machines\n",
    "\n",
    "### IFT6135 - Representation Learning\n",
    "\n",
    "##### Patrice Bechard, Orlando Marquez, Nicholas Vachon"
   ]
  },
  {
   "cell_type": "markdown",
   "metadata": {
    "colab_type": "text",
    "id": "CUZ6xYVDgSUm"
   },
   "source": [
    "-------------------\n",
    "In this task you will implement the Neural Turing Machine as described in Graves *et al* (2014). The goal is to better understand attention and memory augmented networks, and the difficulties encountered when training them."
   ]
  },
  {
   "cell_type": "code",
   "execution_count": 1,
   "metadata": {
    "colab": {
     "autoexec": {
      "startup": false,
      "wait_interval": 0
     }
    },
    "colab_type": "code",
    "id": "1pa4-1QagUQs"
   },
   "outputs": [
    {
     "name": "stdout",
     "output_type": "stream",
     "text": [
      "\u001b[31mtorch-0.3.0.post4-cp27-cp27m-linux_x86_64.whl is not a supported wheel on this platform.\u001b[0m\n"
     ]
    }
   ],
   "source": [
    "# http://pytorch.org/\n",
    "from os import path\n",
    "from wheel.pep425tags import get_abbr_impl, get_impl_ver, get_abi_tag\n",
    "platform = '{}{}-{}'.format(get_abbr_impl(), get_impl_ver(), get_abi_tag())\n",
    "\n",
    "accelerator = 'cu80' if path.exists('/opt/bin/nvidia-smi') else 'cpu'\n",
    "\n",
    "!pip install -q http://download.pytorch.org/whl/{accelerator}/torch-0.3.0.post4-{platform}-linux_x86_64.whl torchvision"
   ]
  },
  {
   "cell_type": "code",
   "execution_count": 3,
   "metadata": {
    "colab": {
     "autoexec": {
      "startup": false,
      "wait_interval": 0
     }
    },
    "colab_type": "code",
    "id": "sMfOzfktgSUo"
   },
   "outputs": [
    {
     "name": "stdout",
     "output_type": "stream",
     "text": [
      "Populating the interactive namespace from numpy and matplotlib\n"
     ]
    }
   ],
   "source": [
    "import torch\n",
    "from torch import nn\n",
    "from torch import optim\n",
    "from torch.autograd import Variable\n",
    "import torch.nn.functional as F\n",
    "\n",
    "import pylab\n",
    "%pylab inline\n",
    "\n",
    "#torch.manual_seed(10)"
   ]
  },
  {
   "cell_type": "code",
   "execution_count": 4,
   "metadata": {
    "colab": {
     "autoexec": {
      "startup": false,
      "wait_interval": 0
     }
    },
    "colab_type": "code",
    "collapsed": true,
    "id": "T1Pd0hNzFKH9"
   },
   "outputs": [],
   "source": [
    "# import tensorflow as tf\n",
    "# device_name = tf.test.gpu_device_name()\n",
    "# if device_name != '/device:GPU:0':\n",
    "#   raise SystemError('GPU device not found')\n",
    "# print('Found GPU at: {}'.format(device_name))\n",
    "# torch.cuda.is_available()\n",
    "\n",
    "# use_cuda = torch.cuda.is_available()"
   ]
  },
  {
   "cell_type": "code",
   "execution_count": 4,
   "metadata": {
    "colab": {
     "autoexec": {
      "startup": false,
      "wait_interval": 0
     }
    },
    "colab_type": "code",
    "collapsed": true,
    "id": "ZTVfoA_ngSUq"
   },
   "outputs": [],
   "source": [
    "import sys\n",
    "import numpy as np\n",
    "import matplotlib.pyplot as plt\n",
    "from __future__ import division, print_function"
   ]
  },
  {
   "cell_type": "markdown",
   "metadata": {
    "colab_type": "text",
    "id": "wmiLM1e0gSUt"
   },
   "source": [
    "### 1. Filling in the Gaps\n",
    "\n",
    "The paper covers the abstract ideas and goes into details about how the read/write heads are computed, but does not mention several details. Here, we attempt to cover some of the missing details.\n",
    "**Important Note** : The goal is to fill in the details not covered by the paper with reasonable assumptions."
   ]
  },
  {
   "cell_type": "markdown",
   "metadata": {
    "colab_type": "text",
    "id": "0VaNF_CdgSUt"
   },
   "source": [
    "#### (a) Constraining the parameters\n",
    "\n",
    "The output of the controller at each time step consists of parameters that have constraints. For example, $\\beta \\in (0,\\infty)$. Using equations, describe how you have to constrained the output to satisfy them. Briefly justify your choice.\n"
   ]
  },
  {
   "cell_type": "markdown",
   "metadata": {
    "colab_type": "text",
    "id": "AU5NL-Hfs3Dl"
   },
   "source": [
    "\n",
    "\n",
    "---\n",
    "\n",
    "\n",
    "\n",
    "Here is how we have constrained each of the parameters in our model.\n",
    "\n",
    "It's important to notice that for the same $h_t$, we create two different sets of $k_t, \\beta_t, g_t, s_t, \\gamma_t$g, one for read head, the other for write head. For each additional head, we would add two other set of these values.\n",
    "\n",
    "\n",
    "*   $\\mathbf{k_t = ReLU(W_k h_t + b_k)}$. In theory, the elements of the key vector are not constrained. However, we find that adding a nonlinearity helps the model converge.\n",
    "*   $\\mathbf{\\beta_t = SoftPlus(W_\\beta h_t + b_\\beta)}$. To limit the values of the scalar $\\beta$ to $(0,\\infty)$, we used a SoftPlus.\n",
    "*   $\\mathbf{g_t = Sigmoid(W_g h_t + b_g)}$. The value of the scalar $g_t$ has to be between 0 and 1, so we used a sigmoid.\n",
    "*   $\\mathbf{s_t = Softmax(W_s h_t + b_s)}$. We decided to use a shift vector of length 3 and used a Softmax as proposed in the paper\n",
    "*   $\\mathbf{\\gamma_t = ReLU( W_\\gamma h_t + b_\\gamma) +1}$, because $\\gamma_t \\geq 1$ \n",
    "*   $\\mathbf{e_t = sigmoid(W_e h_t + b_e)}$ since we want all the values of vector $e_t$ to be between 0 and 1\n",
    "*   $\\mathbf{a_t = sigmoid(W_a h_t + b_a)}$. Here again, we focused on the specific of this assigment, so we limited all values of the vector $a_t$ between 0 and 1\n",
    "\n"
   ]
  },
  {
   "cell_type": "markdown",
   "metadata": {
    "colab_type": "text",
    "id": "1rKGUJS6gSUu"
   },
   "source": [
    "#### (b) Diagram \n",
    "\n",
    "Present a diagram showing how you think the following are dependent on each other. This will inform your implementation later.\n",
    "- the input $\\mathbf{x}_t$\n",
    "- the memory $\\mathbf{M}_{t-1}$ and $\\mathbf{M}_t$\n",
    "- the output of the read head $\\mathbf{r}_{t-1}$ and $\\mathbf{r}_{t}$\n",
    "- the erase and add vectors $\\mathbf{e}_t$ and $\\mathbf{a}_t$\n",
    "- the output of the controller $\\mathbf{o}_t$"
   ]
  },
  {
   "cell_type": "markdown",
   "metadata": {
    "colab_type": "text",
    "id": "tfJQEWCTw3O5"
   },
   "source": [
    "\n",
    "\n",
    "---\n",
    "\n",
    "\n",
    "\n",
    "Here's a diagram representing our implementation.\n",
    "\n",
    "Once again, it's important to notice that with the same $h_t$, we go through two addressing procees, one for read head, the other for write head. This means that we have different weights and biases between $h_t$ and $k_t$ depending if we are creating the $k_t$ to read or to write.\n",
    "<br/>\n",
    "<br/>\n",
    "<p align=\"center\">\n",
    "![alt text](https://i.imgur.com/o1shxv7.jpg \"Diagram\")\n",
    "</p>\n",
    "<br/>\n"
   ]
  },
  {
   "cell_type": "markdown",
   "metadata": {
    "colab_type": "text",
    "id": "UJL6Y-9vgSUv"
   },
   "source": [
    "### 2. Implement the Neural Turing Machine\n",
    "\n",
    "Implement both a feedforward and LSTM controller. Also implement an LSTM for the same task. This will be the baseline you will compare the performance of the NTM models with."
   ]
  },
  {
   "cell_type": "markdown",
   "metadata": {
    "colab_type": "text",
    "id": "d9jID9XIgSUw"
   },
   "source": [
    "- The task is *only* the **copy** task from the paper.\n",
    "- **Input data** A sequence of random, 8-dimension binary vectors concatenated with a binary indicator for the end of sequence, with sequences no longer than 20 ($T\\le 20$).\n",
    "$$\n",
    "(\\mathbf{x}_1, \\dots, \\mathbf{x}_T, \\mathbf{x}_{T+1})\n",
    "$$\n",
    "\n",
    "where\n",
    "\n",
    "$$\n",
    "\\mathbf{x}_t = (x_{t,1}, x_{t,2}, \\dots, x_{t,8}, 0)\\\\\n",
    "x_{t,i} \\sim \\mathrm{Bernoulli}(0.5) \\\\\n",
    "\\mathrm{x}_{T+1} = (0, 0, \\dots, 0, 1)\n",
    "$$\n",
    "\n",
    "for $t \\in \\{ 1, \\dots, T \\}$.\n",
    "\n",
    "- Use the cross-entropy loss.\n",
    "- **For all models :** Use one layer, with a dimension of 100.\n",
    "- **For the *-NTM models :** Use only 1 read head and 1 write head."
   ]
  },
  {
   "cell_type": "code",
   "execution_count": 5,
   "metadata": {
    "colab": {
     "autoexec": {
      "startup": false,
      "wait_interval": 0
     }
    },
    "colab_type": "code",
    "collapsed": true,
    "id": "B6r1txUtgSUx"
   },
   "outputs": [],
   "source": [
    "#Sequence, batch, input\n",
    "\n",
    "def generate_input_example(sequence_length=None, batch_size=1):\n",
    "    \n",
    "    #length of binary vectors fed to models\n",
    "    vector_length = 8\n",
    "    \n",
    "    #length of sequence of binary vectors\n",
    "    if sequence_length is None:\n",
    "        # generate random sequence length between 1 and 20\n",
    "        sequence_length = np.random.randint(1, 21)            \n",
    "        \n",
    "    data = np.random.randint(2, size=(sequence_length, batch_size, vector_length+1))\n",
    "\n",
    "    # making sure all data has no EOS (no 1 at 9th position)\n",
    "    data[:, :, -1] = 0.0\n",
    "    \n",
    "    padding = np.zeros((sequence_length, batch_size, vector_length+1))\n",
    "    \n",
    "    delimiter = np.zeros((1, batch_size, vector_length+1))\n",
    "    delimiter[:, :, -1] = 1.0    \n",
    "\n",
    "    inputs = np.concatenate((data, delimiter, padding))\n",
    "    \n",
    "    delimiter = np.zeros((1, batch_size, vector_length+1))\n",
    "    targets = np.concatenate((padding, delimiter, data)) \n",
    "    \n",
    "    #convert to torch tensors\n",
    "    inputs = torch.from_numpy(inputs).float()\n",
    "    targets = torch.from_numpy(targets).float()\n",
    "\n",
    "    return inputs, targets"
   ]
  },
  {
   "cell_type": "code",
   "execution_count": 6,
   "metadata": {
    "colab": {
     "autoexec": {
      "startup": false,
      "wait_interval": 0
     }
    },
    "colab_type": "code",
    "collapsed": true,
    "id": "pS-Q9BPq9flq"
   },
   "outputs": [],
   "source": [
    "class NTM(nn.Module):\n",
    "    def __init__(self, ctrl_type, input_size=9, hidden_size=100, num_layers=1,\n",
    "                 n_mem_loc=128, mem_loc_len=20, shift_range=1, batch_size=1):\n",
    "        super(NTM, self).__init__()\n",
    "\n",
    "        self.ctrl_type = ctrl_type\n",
    "        self.input_size = input_size\n",
    "        self.hidden_size = hidden_size\n",
    "        self.memory_size = (n_mem_loc, mem_loc_len)\n",
    "        self.shift_range = shift_range\n",
    "        self.batch_size = batch_size\n",
    "\n",
    "        if ctrl_type not in ['lstm', 'ffnn']:\n",
    "            raise Exception(\"Controller type '%s' not supported. \"\n",
    "                            \"Please choose between 'lstm' and 'ffnn'.\" % ctrl_type)\n",
    "\n",
    "        # creating controller, read head and write head\n",
    "        self.controller = controller(ctrl_type, input_size + mem_loc_len, hidden_size, batch_size=batch_size)\n",
    "        self.write_head = head(hidden_size, n_mem_loc, mem_loc_len, batch_size=batch_size)\n",
    "        self.read_head = head(hidden_size, n_mem_loc, mem_loc_len, batch_size=batch_size)\n",
    "\n",
    "        self.fc_erase = nn.Linear(hidden_size, mem_loc_len)\n",
    "        self.fc_add = nn.Linear(hidden_size, mem_loc_len)\n",
    "        self.fc_out = nn.Linear(mem_loc_len, input_size)\n",
    "\n",
    "        self.memory0 = nn.Parameter(torch.randn(1, self.memory_size[0],\n",
    "                                                self.memory_size[1]) * 0.05)\n",
    "        self.write_weight0 = nn.Parameter(torch.randn(1, self.memory_size[0]) * 0.05)\n",
    "        self.read_weight0 = nn.Parameter(torch.randn(1, self.memory_size[0]) * 0.05)\n",
    "\n",
    "        self.read0 = nn.Parameter(torch.randn(1, self.memory_size[1]) * 0.05)\n",
    "\n",
    "        self.init_parameters()\n",
    "\n",
    "    def init_parameters(self):\n",
    "        # Initialize the linear layers\n",
    "        nn.init.xavier_uniform(self.fc_erase.weight)\n",
    "        nn.init.constant(self.fc_erase.bias, 0)\n",
    "\n",
    "        nn.init.xavier_uniform(self.fc_add.weight)\n",
    "        nn.init.normal(self.fc_add.bias, 0)\n",
    "\n",
    "        nn.init.xavier_uniform(self.fc_out.weight)\n",
    "        nn.init.constant(self.fc_out.bias, 0)\n",
    "\n",
    "    def forward(self, x):\n",
    "\n",
    "        self.ntm_out = None\n",
    "        \n",
    "        #used to store read/write vectors/weights to visualize\n",
    "        self.kept_read_vectors = None\n",
    "        self.kept_write_vectors = None\n",
    "        self.kept_read_weights = None\n",
    "        self.kept_write_weights = None\n",
    "\n",
    "        self.memory = self._init_memory()\n",
    "        self.prev_write_weight, self.prev_read_weight = self._init_weight()\n",
    "        self.read = self._init_read()\n",
    "\n",
    "        if self.ctrl_type == \"lstm\":\n",
    "            self.controller.hidden = self.controller._init_hidden()\n",
    "\n",
    "        #Take a slice of length batch_size x input (original size of input + M)\n",
    "        for input in x:\n",
    "\n",
    "            input = torch.cat((input, self.read), dim=1)\n",
    "            ht = self.controller(input)\n",
    "\n",
    "            self.write_weight = self.write_head(ht, self.memory, self.prev_write_weight)\n",
    "            self.read_weight = self.read_head(ht, self.memory, self.prev_read_weight)\n",
    "            \n",
    "            if self.kept_read_weights is None:\n",
    "                self.kept_read_weights = self.read_weight.unsqueeze(0).data\n",
    "            else:\n",
    "                self.kept_read_weights = torch.cat((self.kept_read_weights, \n",
    "                                                   self.read_weight.unsqueeze(0).data))\n",
    "            if self.kept_write_weights is None:\n",
    "                self.kept_write_weights = self.write_weight.unsqueeze(0).data\n",
    "            else:\n",
    "                self.kept_write_weights = torch.cat((self.kept_write_weights,\n",
    "                                                    self.write_weight.unsqueeze(0).data))\n",
    "\n",
    "            self.prev_write_weight = self.write_weight\n",
    "            self.prev_read_weight = self.read_weight\n",
    "\n",
    "\n",
    "            self.erase = F.sigmoid(self.fc_erase(ht))\n",
    "            self.add = F.sigmoid(self.fc_add(ht))\n",
    "\n",
    "            self._write()\n",
    "            self._read()\n",
    "            \n",
    "            if self.kept_read_vectors is None:\n",
    "                self.kept_read_vectors = self.read.unsqueeze(0).data\n",
    "            else:\n",
    "                self.kept_read_vectors = torch.cat((self.kept_read_vectors, \n",
    "                                                   self.read.unsqueeze(0).data))\n",
    "            if self.kept_write_vectors is None:\n",
    "                self.kept_write_vectors = self.add.unsqueeze(0).data\n",
    "            else:\n",
    "                self.kept_write_vectors = torch.cat((self.kept_write_vectors,\n",
    "                                                        self.add.unsqueeze(0).data))\n",
    "\n",
    "            out = self.fc_out(self.read).unsqueeze(0)\n",
    "            \n",
    "        #NV - Retrait du sigmoid pour stabilité et erreur NAN avec BCEWithLogitLoss\n",
    "        #    out = F.sigmoid(out)\n",
    "\n",
    "            if self.ntm_out is None:\n",
    "                self.ntm_out = out\n",
    "            else:\n",
    "                self.ntm_out = torch.cat((self.ntm_out, out))\n",
    "\n",
    "        return self.ntm_out\n",
    "\n",
    "    def _read(self):\n",
    "        self.read = torch.matmul(self.read_weight.unsqueeze(1), self.memory).view(self.batch_size, -1)\n",
    "\n",
    "    def _write(self):\n",
    "        erase_tensor = torch.matmul(self.write_weight.unsqueeze(-1), self.erase.unsqueeze(1))\n",
    "        add_tensor = torch.matmul(self.write_weight.unsqueeze(-1), self.add.unsqueeze(1))\n",
    "        self.memory = self.memory * (1 - erase_tensor) + add_tensor\n",
    "\n",
    "    def _init_memory(self):\n",
    "        memory = self.memory0.clone().repeat(self.batch_size, 1, 1)\n",
    "        if use_cuda:\n",
    "            memory = memory.cuda()\n",
    "        return memory\n",
    "\n",
    "    def _init_weight(self):\n",
    "        read_weight = self.read_weight0.clone().repeat(self.batch_size, 1)\n",
    "        write_weight = self.write_weight0.clone().repeat(self.batch_size, 1)\n",
    "        if use_cuda:\n",
    "            read_weight, write_weight = read_weight.cuda(), write_weight.cuda()\n",
    "\n",
    "\n",
    "        #print torch.sum(read_weight)\n",
    "\n",
    "        read_weight = F.softmax(read_weight, 1)\n",
    "        write_weight = F.softmax(write_weight, 1)\n",
    "\n",
    "        return write_weight, read_weight\n",
    "\n",
    "    def _init_read(self):\n",
    "        readvec = self.read0.clone().repeat(self.batch_size, 1)\n",
    "\n",
    "        if use_cuda:\n",
    "            readvec = readvec.cuda()\n",
    "        return readvec\n",
    "\n",
    "    def number_of_parameters(self):\n",
    "        return sum(p.numel() for p in self.parameters() if p.requires_grad)"
   ]
  },
  {
   "cell_type": "code",
   "execution_count": 8,
   "metadata": {
    "colab": {
     "autoexec": {
      "startup": false,
      "wait_interval": 0
     }
    },
    "colab_type": "code",
    "collapsed": true,
    "id": "o2jXZ3dB9ita"
   },
   "outputs": [],
   "source": [
    "##################################################################################################\n",
    "#\n",
    "# Each head has 5 linear layers:\n",
    "#   For the key parameter\n",
    "#   For the beta parameter\n",
    "#   For the blending parameter\n",
    "#   For the shift parameter\n",
    "#   For the gamma parameter\n",
    "# It also has a refernce to the memory and the previous weight since it needs them to\n",
    "# calculate the addressing\n",
    "# The output of its forward() method is a normalized new weight\n",
    "#\n",
    "##################################################################################################\n",
    "class head(nn.Module):\n",
    "    def __init__(self, hidden_size, weight_size, key_size, shift_range=1, batch_size=1):\n",
    "        super(head, self).__init__()\n",
    "\n",
    "        self.hidden_size = hidden_size\n",
    "        self.weight_size = weight_size\n",
    "        self.key_size = key_size\n",
    "        self.shift_range = shift_range\n",
    "        self.batch_size = batch_size\n",
    "\n",
    "        self.fc_key = nn.Linear(hidden_size, key_size)\n",
    "        self.fc_beta = nn.Linear(hidden_size, 1)\n",
    "        self.fc_blending = nn.Linear(hidden_size, 1)\n",
    "        self.fc_shift = nn.Linear(hidden_size, 2 * shift_range + 1)\n",
    "        self.fc_gamma = nn.Linear(hidden_size, 1)\n",
    "\n",
    "        self.init_parameters()\n",
    "\n",
    "    def init_parameters(self):\n",
    "        # Initialize the linear layers\n",
    "        nn.init.xavier_normal(self.fc_key.weight)\n",
    "        nn.init.constant(self.fc_key.bias, 0)\n",
    "\n",
    "        nn.init.xavier_uniform(self.fc_beta.weight)\n",
    "        nn.init.constant(self.fc_beta.bias, 0)\n",
    "\n",
    "        nn.init.xavier_uniform(self.fc_blending.weight)\n",
    "        nn.init.constant(self.fc_blending.bias, 0)\n",
    "\n",
    "        nn.init.xavier_uniform(self.fc_shift.weight)\n",
    "        nn.init.constant(self.fc_shift.bias, 0)\n",
    "\n",
    "        nn.init.xavier_normal(self.fc_gamma.weight)\n",
    "        nn.init.constant(self.fc_gamma.bias, 0)\n",
    "\n",
    "    def forward(self, x, memory, prev_weight):\n",
    "        self.memory = memory\n",
    "        self.prev_weight = prev_weight\n",
    "        self.key = F.relu(self.fc_key(x))\n",
    "        self.beta = F.softplus(self.fc_beta(x))\n",
    "        self.blending = F.sigmoid(self.fc_blending(x))\n",
    "        self.shift = F.softmax(self.fc_shift(x), 1)\n",
    "        self.gamma = F.relu(self.fc_gamma(x)) + 1\n",
    "\n",
    "        self._addressing()\n",
    "\n",
    "        return self.weight\n",
    "\n",
    "    def _addressing(self):\n",
    "        self._content_addressing()\n",
    "        self._interpolation()\n",
    "        self._convolutional_shift()\n",
    "        self._sharpening()\n",
    "\n",
    "    def _content_addressing(self):\n",
    "        self.weight = F.softmax(self.beta * F.cosine_similarity(self.key.unsqueeze(1), self.memory, dim=-1), 1)\n",
    "\n",
    "    def _interpolation(self):\n",
    "        self.weight = self.blending * self.weight + (1 - self.blending) * self.prev_weight\n",
    "\n",
    "    def _convolutional_shift(self):\n",
    "        tmp = torch.zeros_like(self.weight)\n",
    "        # expanding weight vector for same convolution\n",
    "        self.weight = torch.cat((self.weight[:, -1:], self.weight, self.weight[:, :1]), dim=1)\n",
    "        for b in range(self.batch_size):\n",
    "            tmp[b] = F.conv1d(self.weight[b].view(1, 1, -1), self.shift[b].view(1, 1, -1))\n",
    "        self.weight = tmp\n",
    "\n",
    "    def _sharpening(self):\n",
    "        self.weight = self.weight ** self.gamma\n",
    "        self.weight = torch.div(self.weight, torch.sum(self.weight, dim=1).unsqueeze(1))"
   ]
  },
  {
   "cell_type": "code",
   "execution_count": 9,
   "metadata": {
    "colab": {
     "autoexec": {
      "startup": false,
      "wait_interval": 0
     }
    },
    "colab_type": "code",
    "collapsed": true,
    "id": "KqcBf-af9joD"
   },
   "outputs": [],
   "source": [
    "#################################################################################################################\n",
    "#\n",
    "# The controller uses an LSTM or an MLP\n",
    "#\n",
    "#################################################################################################################\n",
    "class controller(nn.Module):\n",
    "    def __init__(self, ctrl_type, input_size, hidden_size, batch_size=1,\n",
    "                 num_layers=1):\n",
    "        super(controller, self).__init__()\n",
    "\n",
    "        self.input_size = input_size\n",
    "        self.hidden_size = hidden_size\n",
    "        self.ctrl_type = ctrl_type\n",
    "        self.batch_size = batch_size\n",
    "        self.num_layers = num_layers\n",
    "\n",
    "        if self.ctrl_type == \"lstm\":\n",
    "            self.controller = nn.LSTM(input_size, hidden_size, num_layers)\n",
    "            self.hidden0 = nn.Parameter(torch.randn(num_layers, 1, hidden_size) * 0.05)\n",
    "            self.cell0 = nn.Parameter(torch.randn(num_layers, 1, hidden_size) * 0.05)\n",
    "            self.init_parameters()\n",
    "        elif self.ctrl_type == \"ffnn\":\n",
    "            self.controller = nn.Linear(input_size, hidden_size)\n",
    "            nn.init.xavier_normal(self.controller.weight)\n",
    "\n",
    "\n",
    "    def forward(self, x):\n",
    "        if self.ctrl_type == \"lstm\":\n",
    "            x, self.hidden = self.controller(x.view(1, self.batch_size, -1), self.hidden)\n",
    "            x = x.view(self.batch_size, -1)\n",
    "        elif self.ctrl_type == \"ffnn\":\n",
    "            x = self.controller(x)\n",
    "        return F.tanh(x)\n",
    "\n",
    "    # Crucial for learning: the hidden and cell state of the LSTM at the start of each mini-batch must be learned\n",
    "    def _init_hidden(self):\n",
    "        hidden_state = self.hidden0.clone().repeat(1, self.batch_size, 1)\n",
    "        cell_state = self.cell0.clone().repeat(1, self.batch_size, 1)\n",
    "        if use_cuda:\n",
    "            hidden_state, cell_state = hidden_state.cuda(), cell_state.cuda()\n",
    "        return hidden_state, cell_state\n",
    "\n",
    "    def init_parameters(self):\n",
    "        for param in self.controller.parameters():\n",
    "            if param.dim() == 1:\n",
    "                nn.init.constant(param, 0)\n",
    "            else:\n",
    "                stdev = 5 / (np.sqrt(self.input_size + self.hidden_size))\n",
    "                nn.init.uniform(param, -stdev, stdev)"
   ]
  },
  {
   "cell_type": "code",
   "execution_count": 10,
   "metadata": {
    "colab": {
     "autoexec": {
      "startup": false,
      "wait_interval": 0
     }
    },
    "colab_type": "code",
    "collapsed": true,
    "id": "Rp9wPd35gSU7"
   },
   "outputs": [],
   "source": [
    "class Vanilla_LSTM(nn.Module):\n",
    "    \n",
    "    def __init__(self, input_size=9, hidden_size=100, output_size=9, num_layers=1, batch_size=1):\n",
    "        super(Vanilla_LSTM, self).__init__()\n",
    "\n",
    "        self.input_size = input_size\n",
    "        self.hidden_size = hidden_size\n",
    "        self.num_layers = num_layers\n",
    "        self.output_size = output_size\n",
    "        self.batch_size = batch_size\n",
    "        \n",
    "        self.lstm = nn.LSTM(input_size=input_size, hidden_size=hidden_size, num_layers=num_layers)\n",
    "        self.fc = nn.Linear(hidden_size, output_size)\n",
    "        \n",
    "        self.hidden0 = self._init_hidden()\n",
    "        \n",
    "    def forward(self, x):#, hidden):\n",
    "      \n",
    "       # self.hidden = hidden\n",
    "        \n",
    "        output, self.hidden = self.lstm(x.squeeze(), self.hidden0)\n",
    "    #NV - out for BCEloss\n",
    "        #output = F.sigmoid(self.fc(output))\n",
    "        output = self.fc(output)\n",
    "        return output\n",
    "        \n",
    "    \n",
    "    def _init_hidden(self):\n",
    "        \n",
    "        hidden_state = Variable(torch.randn(self.num_layers, self.batch_size, \n",
    "                                            self.hidden_size) * 0.05)\n",
    "        cell_state = Variable(torch.randn(self.num_layers, self.batch_size, \n",
    "                                          self.hidden_size) * 0.05)\n",
    "        \n",
    "        if use_cuda:\n",
    "            hidden_state = hidden_state.cuda()\n",
    "            cell_state = cell_state.cuda()\n",
    "            \n",
    "        return (hidden_state, cell_state)\n",
    "    \n",
    "    def number_of_parameters(self):\n",
    "        return sum(p.numel() for p in self.parameters() if p.requires_grad)"
   ]
  },
  {
   "cell_type": "code",
   "execution_count": 11,
   "metadata": {
    "colab": {
     "autoexec": {
      "startup": false,
      "wait_interval": 0
     }
    },
    "colab_type": "code",
    "collapsed": true,
    "id": "rLYqu85PgSU9"
   },
   "outputs": [],
   "source": [
    "def train(model, n_updates=100000, learning_rate=1e-4, print_every=100,\n",
    "          show_plot=False):\n",
    "    \n",
    "    if use_cuda:\n",
    "        model = model.cuda()\n",
    "        \n",
    "# NV - Change BCELoss to BCEWithLogitsLoss for stability. (not computed for lstm_ntm)\n",
    "    criterion = nn.BCEWithLogitsLoss() \n",
    "#    criterion = nn.BCELoss()\n",
    "    # original paper uses RMSProp with momentum 0.9\n",
    "    # optimizer = optim.Adam(model.parameters(), lr=learning_rate)\n",
    "    optimizer = optim.RMSprop(model.parameters(), lr=learning_rate, momentum=0.9, alpha=0.95)\n",
    "    \n",
    "    loss_tracker = []\n",
    "    cost_per_seq = 0\n",
    "    \n",
    "    for update in range(n_updates):\n",
    "      \n",
    "        optimizer.zero_grad()\n",
    "      \n",
    "        inputs, targets = generate_input_example(batch_size=model.batch_size)\n",
    "        inputs, targets = Variable(inputs), Variable(targets)\n",
    "        if use_cuda:\n",
    "            inputs, targets = inputs.cuda(), targets.cuda()\n",
    "                \n",
    "        outputs = model(inputs)\n",
    "        \n",
    "        # Going for all the sequence\n",
    "        #output_len = outputs.shape[0]//2\n",
    "        \n",
    "        loss = criterion(outputs, targets)\n",
    "        cost_per_seq += loss.data[0]\n",
    "\n",
    "        loss.backward()\n",
    "        parameters = list(filter(lambda p: p.grad is not None, model.parameters()))\n",
    "        for p in parameters:\n",
    "            p.grad.data.clamp_(-10, 10)\n",
    "        optimizer.step()\n",
    "\n",
    "        if update % print_every == 0:\n",
    "          \n",
    "            if update != 0:\n",
    "                cost_per_seq /= print_every\n",
    "            loss_tracker.append(cost_per_seq)\n",
    "            print(\"Number of sequences processed : %d ----- Cost per sequence(bits) : %.3f\" % (update*model.batch_size, loss_tracker[-1]))\n",
    "            \n",
    "            if show_plot:\n",
    "                show_last_example(inputs, outputs, targets)\n",
    "\n",
    "            cost_per_seq = 0\n",
    "    return loss_tracker"
   ]
  },
  {
   "cell_type": "code",
   "execution_count": null,
   "metadata": {
    "colab": {
     "autoexec": {
      "startup": false,
      "wait_interval": 0
     }
    },
    "colab_type": "code",
    "collapsed": true,
    "id": "c1BzaYDMDLY0"
   },
   "outputs": [],
   "source": [
    "def eval(model, example, show_plot=True):\n",
    "    if use_cuda:\n",
    "        model = model.cuda()\n",
    "\n",
    "    inputs = Variable(example)\n",
    "    output = model(inputs)\n",
    "\n",
    "    if show_plot:\n",
    "        show_last_example(inputs, output, output)"
   ]
  },
  {
   "cell_type": "code",
   "execution_count": 12,
   "metadata": {
    "colab": {
     "autoexec": {
      "startup": false,
      "wait_interval": 0
     }
    },
    "colab_type": "code",
    "collapsed": true,
    "id": "9309lKGMT4lJ"
   },
   "outputs": [],
   "source": [
    "def show_last_example(inputs, outputs, targets):\n",
    "    \n",
    "# NV - Adjust because BCEWLL\n",
    "    outputs = F.sigmoid(outputs)\n",
    "    \n",
    "    inputs = inputs[:,0].data.cpu().numpy()\n",
    "    outputs = outputs[:,0].data.cpu().numpy()\n",
    "    targets = targets[:,0].data.cpu().numpy()\n",
    "    \n",
    "    f, (ax1, ax2, ax3) = plt.subplots(3, sharex=True)\n",
    "    ax1.matshow(inputs.T, aspect='auto')\n",
    "    ax2.matshow(targets.T, aspect='auto')\n",
    "    ax3.matshow(outputs.T, aspect='auto')\n",
    "    \n",
    "    ax1.axes.get_xaxis().set_visible(False)\n",
    "    ax1.axes.get_yaxis().set_visible(False)\n",
    "    ax2.axes.get_xaxis().set_visible(False)\n",
    "    ax2.axes.get_yaxis().set_visible(False)\n",
    "    ax3.axes.get_xaxis().set_visible(False)\n",
    "    ax3.axes.get_yaxis().set_visible(False)\n",
    "    \n",
    "    plt.show()\n",
    "    plt.clf()\n",
    "    "
   ]
  },
  {
   "cell_type": "markdown",
   "metadata": {
    "colab_type": "text",
    "id": "t_RjovsagSVB"
   },
   "source": [
    "#### (a) Number of parameters"
   ]
  },
  {
   "cell_type": "markdown",
   "metadata": {
    "colab_type": "text",
    "id": "rQe8WYglgSVB"
   },
   "source": [
    "Report the total number of parameters of all the models, including the baseline."
   ]
  },
  {
   "cell_type": "code",
   "execution_count": 13,
   "metadata": {
    "colab": {
     "autoexec": {
      "startup": false,
      "wait_interval": 0
     }
    },
    "colab_type": "code",
    "collapsed": true,
    "id": "dm-eaqN2O1Vm"
   },
   "outputs": [],
   "source": [
    "use_cuda=False"
   ]
  },
  {
   "cell_type": "code",
   "execution_count": 14,
   "metadata": {
    "colab": {
     "autoexec": {
      "startup": false,
      "wait_interval": 0
     },
     "base_uri": "https://localhost:8080/",
     "height": 35,
     "output_extras": [
      {
       "item_id": 1
      }
     ]
    },
    "colab_type": "code",
    "executionInfo": {
     "elapsed": 262,
     "status": "ok",
     "timestamp": 1522383013278,
     "user": {
      "displayName": "Orlando M",
      "photoUrl": "https://lh3.googleusercontent.com/a/default-user=s128",
      "userId": "101589964983874814082"
     },
     "user_tz": 240
    },
    "id": "BCJThZ2DgSVD",
    "outputId": "b15f33d3-ab87-476d-9d5a-88db3a810ef8"
   },
   "outputs": [
    {
     "name": "stdout",
     "output_type": "stream",
     "text": [
      "Number of parameters for LSTM-NTM : 64917\n"
     ]
    }
   ],
   "source": [
    "lstm_ntm = NTM('lstm', batch_size=1)\n",
    "print(\"Number of parameters for LSTM-NTM : %d\" % lstm_ntm.number_of_parameters())"
   ]
  },
  {
   "cell_type": "code",
   "execution_count": 12,
   "metadata": {},
   "outputs": [
    {
     "name": "stdout",
     "output_type": "stream",
     "text": [
      "Number of parameters for LSTM-NTM : 64917\n"
     ]
    }
   ],
   "source": [
    "lstm_ntm_BCEWLL = NTM('lstm', batch_size=1)\n",
    "print(\"Number of parameters for LSTM-NTM : %d\" % lstm_ntm_BCEWLL.number_of_parameters())"
   ]
  },
  {
   "cell_type": "code",
   "execution_count": 14,
   "metadata": {
    "colab": {
     "autoexec": {
      "startup": false,
      "wait_interval": 0
     },
     "base_uri": "https://localhost:8080/",
     "height": 34,
     "output_extras": [
      {
       "item_id": 1
      }
     ]
    },
    "colab_type": "code",
    "executionInfo": {
     "elapsed": 323,
     "status": "ok",
     "timestamp": 1522377476549,
     "user": {
      "displayName": "Patrice Béchard",
      "photoUrl": "//lh3.googleusercontent.com/-bL5zJjq50s8/AAAAAAAAAAI/AAAAAAAAJg4/tTYa0EKiWok/s50-c-k-no/photo.jpg",
      "userId": "107700311785587995610"
     },
     "user_tz": 240
    },
    "id": "DPD6CF2agSVE",
    "outputId": "7a7bbac4-157b-4faa-91e9-45a7c7abb735"
   },
   "outputs": [
    {
     "name": "stdout",
     "output_type": "stream",
     "text": [
      "Number of parameters for FFNN-NTM : 15317\n"
     ]
    }
   ],
   "source": [
    "ffnn_ntm = NTM('ffnn', batch_size=1)\n",
    "print(\"Number of parameters for FFNN-NTM : %d\" % ffnn_ntm.number_of_parameters())"
   ]
  },
  {
   "cell_type": "code",
   "execution_count": 78,
   "metadata": {
    "colab": {
     "autoexec": {
      "startup": false,
      "wait_interval": 0
     }
    },
    "colab_type": "code",
    "id": "c4Dkb0regSVH"
   },
   "outputs": [
    {
     "name": "stdout",
     "output_type": "stream",
     "text": [
      "Number of parameters for Vanilla LSTM : 45309\n"
     ]
    }
   ],
   "source": [
    "baseline2 = Vanilla_LSTM(batch_size=1)\n",
    "print(\"Number of parameters for Vanilla LSTM : %d\" % baseline2.number_of_parameters())"
   ]
  },
  {
   "cell_type": "markdown",
   "metadata": {
    "colab_type": "text",
    "id": "VPw7ObFQgSVI"
   },
   "source": [
    "#### (b) Hyper-parameter search"
   ]
  },
  {
   "cell_type": "markdown",
   "metadata": {
    "colab_type": "text",
    "id": "0WeznopCgSVJ"
   },
   "source": [
    "Perform a training hyper-parameter search (learning rate, batch_size, etc.) to ensure that the loss converges. (You do not have to perform an exhaustive grid search, just provide the hyper-parameters you eventually used."
   ]
  },
  {
   "cell_type": "code",
   "execution_count": 15,
   "metadata": {
    "colab": {
     "autoexec": {
      "startup": false,
      "wait_interval": 0
     },
     "base_uri": "https://localhost:8080/",
     "height": 1395,
     "output_extras": [
      {
       "item_id": 1
      },
      {
       "item_id": 2
      },
      {
       "item_id": 3
      },
      {
       "item_id": 4
      },
      {
       "item_id": 5
      },
      {
       "item_id": 6
      },
      {
       "item_id": 7
      },
      {
       "item_id": 8
      },
      {
       "item_id": 9
      },
      {
       "item_id": 10
      },
      {
       "item_id": 11
      }
     ]
    },
    "colab_type": "code",
    "id": "OmC2CBUEzFlq",
    "outputId": "5174af4f-75af-47fc-be74-cf0a615e91f1",
    "scrolled": true
   },
   "outputs": [
    {
     "name": "stdout",
     "output_type": "stream",
     "text": [
      "Number of sequences processed : 0 ----- Cost per sequence(bits) : 0.708\n"
     ]
    },
    {
     "data": {
      "image/png": "[encoded data removed]",
      "text/plain": [
       "<matplotlib.figure.Figure at 0x10d83c350>"
      ]
     },
     "metadata": {},
     "output_type": "display_data"
    },
    {
     "name": "stdout",
     "output_type": "stream",
     "text": [
      "Number of sequences processed : 1000 ----- Cost per sequence(bits) : 0.352\n"
     ]
    },
    {
     "data": {
      "text/plain": [
       "<matplotlib.figure.Figure at 0x111096810>"
      ]
     },
     "metadata": {},
     "output_type": "display_data"
    },
    {
     "data": {
      "image/png": "[encoded data removed]",
      "text/plain": [
       "<matplotlib.figure.Figure at 0x1025e1bd0>"
      ]
     },
     "metadata": {},
     "output_type": "display_data"
    },
    {
     "name": "stdout",
     "output_type": "stream",
     "text": [
      "Number of sequences processed : 2000 ----- Cost per sequence(bits) : 0.289\n"
     ]
    },
    {
     "data": {
      "text/plain": [
       "<matplotlib.figure.Figure at 0x110e20c90>"
      ]
     },
     "metadata": {},
     "output_type": "display_data"
    },
    {
     "data": {
      "image/png": "[encoded data removed]",
      "text/plain": [
       "<matplotlib.figure.Figure at 0x1025e1bd0>"
      ]
     },
     "metadata": {},
     "output_type": "display_data"
    },
    {
     "name": "stdout",
     "output_type": "stream",
     "text": [
      "Number of sequences processed : 3000 ----- Cost per sequence(bits) : 0.285\n"
     ]
    },
    {
     "data": {
      "text/plain": [
       "<matplotlib.figure.Figure at 0x11111fa50>"
      ]
     },
     "metadata": {},
     "output_type": "display_data"
    },
    {
     "data": {
      "image/png": "[encoded data removed]",
      "text/plain": [
       "<matplotlib.figure.Figure at 0x10cbb6550>"
      ]
     },
     "metadata": {},
     "output_type": "display_data"
    },
    {
     "name": "stdout",
     "output_type": "stream",
     "text": [
      "Number of sequences processed : 4000 ----- Cost per sequence(bits) : 0.284\n"
     ]
    },
    {
     "data": {
      "text/plain": [
       "<matplotlib.figure.Figure at 0x110e53d90>"
      ]
     },
     "metadata": {},
     "output_type": "display_data"
    },
    {
     "data": {
      "image/png": "[encoded data removed]",
      "text/plain": [
       "<matplotlib.figure.Figure at 0x10cbcfbd0>"
      ]
     },
     "metadata": {},
     "output_type": "display_data"
    },
    {
     "name": "stdout",
     "output_type": "stream",
     "text": [
      "Number of sequences processed : 5000 ----- Cost per sequence(bits) : 0.282\n"
     ]
    },
    {
     "data": {
      "text/plain": [
       "<matplotlib.figure.Figure at 0x11114aa50>"
      ]
     },
     "metadata": {},
     "output_type": "display_data"
    },
    {
     "data": {
      "image/png": "[encoded data removed]",
      "text/plain": [
       "<matplotlib.figure.Figure at 0x10cbcfbd0>"
      ]
     },
     "metadata": {},
     "output_type": "display_data"
    },
    {
     "name": "stdout",
     "output_type": "stream",
     "text": [
      "Number of sequences processed : 6000 ----- Cost per sequence(bits) : 0.280\n"
     ]
    },
    {
     "data": {
      "text/plain": [
       "<matplotlib.figure.Figure at 0x10d860d10>"
      ]
     },
     "metadata": {},
     "output_type": "display_data"
    },
    {
     "data": {
      "image/png": "[encoded data removed]",
      "text/plain": [
       "<matplotlib.figure.Figure at 0x10cbb6550>"
      ]
     },
     "metadata": {},
     "output_type": "display_data"
    },
    {
     "name": "stdout",
     "output_type": "stream",
     "text": [
      "Number of sequences processed : 7000 ----- Cost per sequence(bits) : 0.276\n"
     ]
    },
    {
     "data": {
      "text/plain": [
       "<matplotlib.figure.Figure at 0x111040c90>"
      ]
     },
     "metadata": {},
     "output_type": "display_data"
    },
    {
     "data": {
      "image/png": "[encoded data removed]",
      "text/plain": [
       "<matplotlib.figure.Figure at 0x10cc6d650>"
      ]
     },
     "metadata": {},
     "output_type": "display_data"
    },
    {
     "name": "stdout",
     "output_type": "stream",
     "text": [
      "Number of sequences processed : 8000 ----- Cost per sequence(bits) : 0.268\n"
     ]
    },
    {
     "data": {
      "text/plain": [
       "<matplotlib.figure.Figure at 0x110e215d0>"
      ]
     },
     "metadata": {},
     "output_type": "display_data"
    },
    {
     "data": {
      "image/png": "[encoded data removed]",
      "text/plain": [
       "<matplotlib.figure.Figure at 0x10cbb6590>"
      ]
     },
     "metadata": {},
     "output_type": "display_data"
    },
    {
     "name": "stdout",
     "output_type": "stream",
     "text": [
      "Number of sequences processed : 9000 ----- Cost per sequence(bits) : 0.252\n"
     ]
    },
    {
     "data": {
      "text/plain": [
       "<matplotlib.figure.Figure at 0x110f8dd50>"
      ]
     },
     "metadata": {},
     "output_type": "display_data"
    },
    {
     "data": {
      "image/png": "[encoded data removed]",
      "text/plain": [
       "<matplotlib.figure.Figure at 0x102552a10>"
      ]
     },
     "metadata": {},
     "output_type": "display_data"
    },
    {
     "name": "stdout",
     "output_type": "stream",
     "text": [
      "Number of sequences processed : 10000 ----- Cost per sequence(bits) : 0.241\n"
     ]
    },
    {
     "data": {
      "text/plain": [
       "<matplotlib.figure.Figure at 0x110e7a790>"
      ]
     },
     "metadata": {},
     "output_type": "display_data"
    },
    {
     "data": {
      "image/png": "[encoded data removed]",
      "text/plain": [
       "<matplotlib.figure.Figure at 0x1040819d0>"
      ]
     },
     "metadata": {},
     "output_type": "display_data"
    },
    {
     "name": "stdout",
     "output_type": "stream",
     "text": [
      "Number of sequences processed : 11000 ----- Cost per sequence(bits) : 0.239\n"
     ]
    },
    {
     "data": {
      "text/plain": [
       "<matplotlib.figure.Figure at 0x111217b10>"
      ]
     },
     "metadata": {},
     "output_type": "display_data"
    },
    {
     "data": {
      "image/png": "[encoded data removed]",
      "text/plain": [
       "<matplotlib.figure.Figure at 0x10cbcfbd0>"
      ]
     },
     "metadata": {},
     "output_type": "display_data"
    },
    {
     "name": "stdout",
     "output_type": "stream",
     "text": [
      "Number of sequences processed : 12000 ----- Cost per sequence(bits) : 0.223\n"
     ]
    },
    {
     "data": {
      "text/plain": [
       "<matplotlib.figure.Figure at 0x110ffedd0>"
      ]
     },
     "metadata": {},
     "output_type": "display_data"
    },
    {
     "data": {
      "image/png": "[encoded data removed]",
      "text/plain": [
       "<matplotlib.figure.Figure at 0x10cbcfbd0>"
      ]
     },
     "metadata": {},
     "output_type": "display_data"
    },
    {
     "name": "stdout",
     "output_type": "stream",
     "text": [
      "Number of sequences processed : 13000 ----- Cost per sequence(bits) : 0.059\n"
     ]
    },
    {
     "data": {
      "text/plain": [
       "<matplotlib.figure.Figure at 0x110f42050>"
      ]
     },
     "metadata": {},
     "output_type": "display_data"
    },
    {
     "data": {
      "image/png": "[encoded data removed]",
      "text/plain": [
       "<matplotlib.figure.Figure at 0x10cbb6590>"
      ]
     },
     "metadata": {},
     "output_type": "display_data"
    },
    {
     "name": "stdout",
     "output_type": "stream",
     "text": [
      "Number of sequences processed : 14000 ----- Cost per sequence(bits) : 0.009\n"
     ]
    },
    {
     "data": {
      "text/plain": [
       "<matplotlib.figure.Figure at 0x110fc15d0>"
      ]
     },
     "metadata": {},
     "output_type": "display_data"
    },
    {
     "data": {
      "image/png": "[encoded data removed]",
      "text/plain": [
       "<matplotlib.figure.Figure at 0x10cbcfbd0>"
      ]
     },
     "metadata": {},
     "output_type": "display_data"
    },
    {
     "name": "stdout",
     "output_type": "stream",
     "text": [
      "Number of sequences processed : 15000 ----- Cost per sequence(bits) : 0.002\n"
     ]
    },
    {
     "data": {
      "text/plain": [
       "<matplotlib.figure.Figure at 0x110e62b50>"
      ]
     },
     "metadata": {},
     "output_type": "display_data"
    },
    {
     "data": {
      "image/png": "[encoded data removed]",
      "text/plain": [
       "<matplotlib.figure.Figure at 0x10cbcfbd0>"
      ]
     },
     "metadata": {},
     "output_type": "display_data"
    },
    {
     "name": "stdout",
     "output_type": "stream",
     "text": [
      "Number of sequences processed : 16000 ----- Cost per sequence(bits) : 0.000\n"
     ]
    },
    {
     "data": {
      "text/plain": [
       "<matplotlib.figure.Figure at 0x11122df10>"
      ]
     },
     "metadata": {},
     "output_type": "display_data"
    },
    {
     "data": {
      "image/png": "[encoded data removed]",
      "text/plain": [
       "<matplotlib.figure.Figure at 0x10cbcfbd0>"
      ]
     },
     "metadata": {},
     "output_type": "display_data"
    },
    {
     "ename": "KeyboardInterrupt",
     "evalue": "",
     "output_type": "error",
     "traceback": [
      "\u001b[0;31m---------------------------------------------------------------------------\u001b[0m",
      "\u001b[0;31mKeyboardInterrupt\u001b[0m                         Traceback (most recent call last)",
      "\u001b[0;32m<ipython-input-15-34c0ec4c0f0d>\u001b[0m in \u001b[0;36m<module>\u001b[0;34m()\u001b[0m\n\u001b[0;32m----> 1\u001b[0;31m \u001b[0mlstm_ntm_loss\u001b[0m \u001b[0;34m=\u001b[0m \u001b[0mtrain\u001b[0m\u001b[0;34m(\u001b[0m\u001b[0mlstm_ntm\u001b[0m\u001b[0;34m,\u001b[0m \u001b[0mlearning_rate\u001b[0m\u001b[0;34m=\u001b[0m\u001b[0;36m1e-4\u001b[0m\u001b[0;34m,\u001b[0m \u001b[0mprint_every\u001b[0m\u001b[0;34m=\u001b[0m\u001b[0;36m1000\u001b[0m\u001b[0;34m,\u001b[0m \u001b[0mn_updates\u001b[0m\u001b[0;34m=\u001b[0m\u001b[0;36m50000\u001b[0m\u001b[0;34m,\u001b[0m \u001b[0mshow_plot\u001b[0m\u001b[0;34m=\u001b[0m\u001b[0mTrue\u001b[0m\u001b[0;34m)\u001b[0m\u001b[0;34m\u001b[0m\u001b[0m\n\u001b[0m",
      "\u001b[0;32m<ipython-input-11-878beff4bb5c>\u001b[0m in \u001b[0;36mtrain\u001b[0;34m(model, n_updates, learning_rate, print_every, show_plot)\u001b[0m\n\u001b[1;32m     32\u001b[0m         \u001b[0mcost_per_seq\u001b[0m \u001b[0;34m+=\u001b[0m \u001b[0mloss\u001b[0m\u001b[0;34m.\u001b[0m\u001b[0mdata\u001b[0m\u001b[0;34m[\u001b[0m\u001b[0;36m0\u001b[0m\u001b[0;34m]\u001b[0m\u001b[0;34m\u001b[0m\u001b[0m\n\u001b[1;32m     33\u001b[0m \u001b[0;34m\u001b[0m\u001b[0m\n\u001b[0;32m---> 34\u001b[0;31m         \u001b[0mloss\u001b[0m\u001b[0;34m.\u001b[0m\u001b[0mbackward\u001b[0m\u001b[0;34m(\u001b[0m\u001b[0;34m)\u001b[0m\u001b[0;34m\u001b[0m\u001b[0m\n\u001b[0m\u001b[1;32m     35\u001b[0m         \u001b[0mparameters\u001b[0m \u001b[0;34m=\u001b[0m \u001b[0mlist\u001b[0m\u001b[0;34m(\u001b[0m\u001b[0mfilter\u001b[0m\u001b[0;34m(\u001b[0m\u001b[0;32mlambda\u001b[0m \u001b[0mp\u001b[0m\u001b[0;34m:\u001b[0m \u001b[0mp\u001b[0m\u001b[0;34m.\u001b[0m\u001b[0mgrad\u001b[0m \u001b[0;32mis\u001b[0m \u001b[0;32mnot\u001b[0m \u001b[0mNone\u001b[0m\u001b[0;34m,\u001b[0m \u001b[0mmodel\u001b[0m\u001b[0;34m.\u001b[0m\u001b[0mparameters\u001b[0m\u001b[0;34m(\u001b[0m\u001b[0;34m)\u001b[0m\u001b[0;34m)\u001b[0m\u001b[0;34m)\u001b[0m\u001b[0;34m\u001b[0m\u001b[0m\n\u001b[1;32m     36\u001b[0m         \u001b[0;32mfor\u001b[0m \u001b[0mp\u001b[0m \u001b[0;32min\u001b[0m \u001b[0mparameters\u001b[0m\u001b[0;34m:\u001b[0m\u001b[0;34m\u001b[0m\u001b[0m\n",
      "\u001b[0;32m/Users/nicholas.vachon/anaconda/lib/python2.7/site-packages/torch/autograd/variable.pyc\u001b[0m in \u001b[0;36mbackward\u001b[0;34m(self, gradient, retain_graph, create_graph, retain_variables)\u001b[0m\n\u001b[1;32m    165\u001b[0m                 \u001b[0mVariable\u001b[0m\u001b[0;34m.\u001b[0m\u001b[0;34m\u001b[0m\u001b[0m\n\u001b[1;32m    166\u001b[0m         \"\"\"\n\u001b[0;32m--> 167\u001b[0;31m         \u001b[0mtorch\u001b[0m\u001b[0;34m.\u001b[0m\u001b[0mautograd\u001b[0m\u001b[0;34m.\u001b[0m\u001b[0mbackward\u001b[0m\u001b[0;34m(\u001b[0m\u001b[0mself\u001b[0m\u001b[0;34m,\u001b[0m \u001b[0mgradient\u001b[0m\u001b[0;34m,\u001b[0m \u001b[0mretain_graph\u001b[0m\u001b[0;34m,\u001b[0m \u001b[0mcreate_graph\u001b[0m\u001b[0;34m,\u001b[0m \u001b[0mretain_variables\u001b[0m\u001b[0;34m)\u001b[0m\u001b[0;34m\u001b[0m\u001b[0m\n\u001b[0m\u001b[1;32m    168\u001b[0m \u001b[0;34m\u001b[0m\u001b[0m\n\u001b[1;32m    169\u001b[0m     \u001b[0;32mdef\u001b[0m \u001b[0mregister_hook\u001b[0m\u001b[0;34m(\u001b[0m\u001b[0mself\u001b[0m\u001b[0;34m,\u001b[0m \u001b[0mhook\u001b[0m\u001b[0;34m)\u001b[0m\u001b[0;34m:\u001b[0m\u001b[0;34m\u001b[0m\u001b[0m\n",
      "\u001b[0;32m/Users/nicholas.vachon/anaconda/lib/python2.7/site-packages/torch/autograd/__init__.pyc\u001b[0m in \u001b[0;36mbackward\u001b[0;34m(variables, grad_variables, retain_graph, create_graph, retain_variables)\u001b[0m\n\u001b[1;32m     97\u001b[0m \u001b[0;34m\u001b[0m\u001b[0m\n\u001b[1;32m     98\u001b[0m     Variable._execution_engine.run_backward(\n\u001b[0;32m---> 99\u001b[0;31m         variables, grad_variables, retain_graph)\n\u001b[0m\u001b[1;32m    100\u001b[0m \u001b[0;34m\u001b[0m\u001b[0m\n\u001b[1;32m    101\u001b[0m \u001b[0;34m\u001b[0m\u001b[0m\n",
      "\u001b[0;31mKeyboardInterrupt\u001b[0m: "
     ]
    },
    {
     "data": {
      "text/plain": [
       "<matplotlib.figure.Figure at 0x110e78490>"
      ]
     },
     "metadata": {},
     "output_type": "display_data"
    }
   ],
   "source": [
    "lstm_ntm_loss = train(lstm_ntm, learning_rate=1e-4, print_every=1000, n_updates=50000, show_plot=True)"
   ]
  },
  {
   "cell_type": "code",
   "execution_count": 90,
   "metadata": {
    "collapsed": true
   },
   "outputs": [],
   "source": [
    "np.savetxt(\"lstm_ntm_loss.txt\", np.array(lstm_ntm_loss))\n",
    "torch.save(lstm_ntm.state_dict(), \"lstm_ntm.pt\")"
   ]
  },
  {
   "cell_type": "code",
   "execution_count": 52,
   "metadata": {},
   "outputs": [
    {
     "data": {
      "image/png": "[encoded data removed]",
      "text/plain": [
       "<matplotlib.figure.Figure at 0x111f57ad0>"
      ]
     },
     "metadata": {},
     "output_type": "display_data"
    }
   ],
   "source": [
    "# Graphics\n",
    "pylab.plot(np.arange(0,50000,1000), lstm_ntm_loss)\n",
    "pyplot.xlabel(\"Number of sequences processed\")\n",
    "pyplot.ylabel(\"Cost per sequence(bits)\")\n",
    "legend()"
   ]
  },
  {
   "cell_type": "code",
   "execution_count": 13,
   "metadata": {},
   "outputs": [
    {
     "name": "stdout",
     "output_type": "stream",
     "text": [
      "Number of sequences processed : 0 ----- Cost per sequence(bits) : 0.696\n"
     ]
    },
    {
     "data": {
      "image/png": "[encoded data removed]",
      "text/plain": [
       "<matplotlib.figure.Figure at 0x10bffec10>"
      ]
     },
     "metadata": {},
     "output_type": "display_data"
    },
    {
     "name": "stdout",
     "output_type": "stream",
     "text": [
      "Number of sequences processed : 1000 ----- Cost per sequence(bits) : 0.499\n"
     ]
    },
    {
     "data": {
      "text/plain": [
       "<matplotlib.figure.Figure at 0x1156a1ad0>"
      ]
     },
     "metadata": {},
     "output_type": "display_data"
    },
    {
     "data": {
      "image/png": "[encoded data removed]",
      "text/plain": [
       "<matplotlib.figure.Figure at 0x10a3c3a10>"
      ]
     },
     "metadata": {},
     "output_type": "display_data"
    },
    {
     "name": "stdout",
     "output_type": "stream",
     "text": [
      "Number of sequences processed : 2000 ----- Cost per sequence(bits) : 0.480\n"
     ]
    },
    {
     "data": {
      "text/plain": [
       "<matplotlib.figure.Figure at 0x118e6df10>"
      ]
     },
     "metadata": {},
     "output_type": "display_data"
    },
    {
     "data": {
      "image/png": "[encoded data removed]",
      "text/plain": [
       "<matplotlib.figure.Figure at 0x10a3c3a10>"
      ]
     },
     "metadata": {},
     "output_type": "display_data"
    },
    {
     "name": "stdout",
     "output_type": "stream",
     "text": [
      "Number of sequences processed : 3000 ----- Cost per sequence(bits) : 0.479\n"
     ]
    },
    {
     "data": {
      "text/plain": [
       "<matplotlib.figure.Figure at 0x118d8cfd0>"
      ]
     },
     "metadata": {},
     "output_type": "display_data"
    },
    {
     "data": {
      "image/png": "[encoded data removed]",
      "text/plain": [
       "<matplotlib.figure.Figure at 0x114a39bd0>"
      ]
     },
     "metadata": {},
     "output_type": "display_data"
    },
    {
     "name": "stdout",
     "output_type": "stream",
     "text": [
      "Number of sequences processed : 4000 ----- Cost per sequence(bits) : 0.478\n"
     ]
    },
    {
     "data": {
      "text/plain": [
       "<matplotlib.figure.Figure at 0x11900bd50>"
      ]
     },
     "metadata": {},
     "output_type": "display_data"
    },
    {
     "data": {
      "image/png": "[encoded data removed]",
      "text/plain": [
       "<matplotlib.figure.Figure at 0x10bd67050>"
      ]
     },
     "metadata": {},
     "output_type": "display_data"
    },
    {
     "name": "stdout",
     "output_type": "stream",
     "text": [
      "Number of sequences processed : 5000 ----- Cost per sequence(bits) : 0.479\n"
     ]
    },
    {
     "data": {
      "text/plain": [
       "<matplotlib.figure.Figure at 0x118f01fd0>"
      ]
     },
     "metadata": {},
     "output_type": "display_data"
    },
    {
     "data": {
      "image/png": "[encoded data removed]",
      "text/plain": [
       "<matplotlib.figure.Figure at 0x10ae86350>"
      ]
     },
     "metadata": {},
     "output_type": "display_data"
    },
    {
     "name": "stdout",
     "output_type": "stream",
     "text": [
      "Number of sequences processed : 6000 ----- Cost per sequence(bits) : 0.478\n"
     ]
    },
    {
     "data": {
      "text/plain": [
       "<matplotlib.figure.Figure at 0x118e4ae50>"
      ]
     },
     "metadata": {},
     "output_type": "display_data"
    },
    {
     "data": {
      "image/png": "[encoded data removed]",
      "text/plain": [
       "<matplotlib.figure.Figure at 0x10bfb4f50>"
      ]
     },
     "metadata": {},
     "output_type": "display_data"
    },
    {
     "name": "stdout",
     "output_type": "stream",
     "text": [
      "Number of sequences processed : 7000 ----- Cost per sequence(bits) : 0.476\n"
     ]
    },
    {
     "data": {
      "text/plain": [
       "<matplotlib.figure.Figure at 0x118dfefd0>"
      ]
     },
     "metadata": {},
     "output_type": "display_data"
    },
    {
     "data": {
      "image/png": "[encoded data removed]",
      "text/plain": [
       "<matplotlib.figure.Figure at 0x10b948ed0>"
      ]
     },
     "metadata": {},
     "output_type": "display_data"
    },
    {
     "name": "stdout",
     "output_type": "stream",
     "text": [
      "Number of sequences processed : 8000 ----- Cost per sequence(bits) : 0.476\n"
     ]
    },
    {
     "data": {
      "text/plain": [
       "<matplotlib.figure.Figure at 0x1190e40d0>"
      ]
     },
     "metadata": {},
     "output_type": "display_data"
    },
    {
     "data": {
      "image/png": "[encoded data removed]",
      "text/plain": [
       "<matplotlib.figure.Figure at 0x10bffec10>"
      ]
     },
     "metadata": {},
     "output_type": "display_data"
    },
    {
     "name": "stdout",
     "output_type": "stream",
     "text": [
      "Number of sequences processed : 9000 ----- Cost per sequence(bits) : 0.478\n"
     ]
    },
    {
     "data": {
      "text/plain": [
       "<matplotlib.figure.Figure at 0x118f2bd90>"
      ]
     },
     "metadata": {},
     "output_type": "display_data"
    },
    {
     "data": {
      "image/png": "[encoded data removed]",
      "text/plain": [
       "<matplotlib.figure.Figure at 0x10bffec10>"
      ]
     },
     "metadata": {},
     "output_type": "display_data"
    },
    {
     "name": "stdout",
     "output_type": "stream",
     "text": [
      "Number of sequences processed : 10000 ----- Cost per sequence(bits) : 0.479\n"
     ]
    },
    {
     "data": {
      "text/plain": [
       "<matplotlib.figure.Figure at 0x118e78490>"
      ]
     },
     "metadata": {},
     "output_type": "display_data"
    },
    {
     "data": {
      "image/png": "[encoded data removed]",
      "text/plain": [
       "<matplotlib.figure.Figure at 0x10bffec10>"
      ]
     },
     "metadata": {},
     "output_type": "display_data"
    },
    {
     "name": "stdout",
     "output_type": "stream",
     "text": [
      "Number of sequences processed : 11000 ----- Cost per sequence(bits) : 0.480\n"
     ]
    },
    {
     "data": {
      "text/plain": [
       "<matplotlib.figure.Figure at 0x118dd7d10>"
      ]
     },
     "metadata": {},
     "output_type": "display_data"
    },
    {
     "data": {
      "image/png": "[encoded data removed]",
      "text/plain": [
       "<matplotlib.figure.Figure at 0x10bfb4950>"
      ]
     },
     "metadata": {},
     "output_type": "display_data"
    },
    {
     "name": "stdout",
     "output_type": "stream",
     "text": [
      "Number of sequences processed : 12000 ----- Cost per sequence(bits) : 0.478\n"
     ]
    },
    {
     "data": {
      "text/plain": [
       "<matplotlib.figure.Figure at 0x118dcd090>"
      ]
     },
     "metadata": {},
     "output_type": "display_data"
    },
    {
     "data": {
      "image/png": "[encoded data removed]",
      "text/plain": [
       "<matplotlib.figure.Figure at 0x10bfb4f50>"
      ]
     },
     "metadata": {},
     "output_type": "display_data"
    },
    {
     "name": "stdout",
     "output_type": "stream",
     "text": [
      "Number of sequences processed : 13000 ----- Cost per sequence(bits) : 0.315\n"
     ]
    },
    {
     "data": {
      "text/plain": [
       "<matplotlib.figure.Figure at 0x1156a6550>"
      ]
     },
     "metadata": {},
     "output_type": "display_data"
    },
    {
     "data": {
      "image/png": "[encoded data removed]",
      "text/plain": [
       "<matplotlib.figure.Figure at 0x114a1f550>"
      ]
     },
     "metadata": {},
     "output_type": "display_data"
    },
    {
     "name": "stdout",
     "output_type": "stream",
     "text": [
      "Number of sequences processed : 14000 ----- Cost per sequence(bits) : 0.286\n"
     ]
    },
    {
     "data": {
      "text/plain": [
       "<matplotlib.figure.Figure at 0x118dd4410>"
      ]
     },
     "metadata": {},
     "output_type": "display_data"
    },
    {
     "data": {
      "image/png": "[encoded data removed]",
      "text/plain": [
       "<matplotlib.figure.Figure at 0x10bffec10>"
      ]
     },
     "metadata": {},
     "output_type": "display_data"
    },
    {
     "name": "stdout",
     "output_type": "stream",
     "text": [
      "Number of sequences processed : 15000 ----- Cost per sequence(bits) : 0.282\n"
     ]
    },
    {
     "data": {
      "text/plain": [
       "<matplotlib.figure.Figure at 0x118da30d0>"
      ]
     },
     "metadata": {},
     "output_type": "display_data"
    },
    {
     "data": {
      "image/png": "[encoded data removed]",
      "text/plain": [
       "<matplotlib.figure.Figure at 0x10bd67050>"
      ]
     },
     "metadata": {},
     "output_type": "display_data"
    },
    {
     "name": "stdout",
     "output_type": "stream",
     "text": [
      "Number of sequences processed : 16000 ----- Cost per sequence(bits) : 0.280\n"
     ]
    },
    {
     "data": {
      "text/plain": [
       "<matplotlib.figure.Figure at 0x118de8310>"
      ]
     },
     "metadata": {},
     "output_type": "display_data"
    },
    {
     "data": {
      "image/png": "[encoded data removed]",
      "text/plain": [
       "<matplotlib.figure.Figure at 0x10a3c3a10>"
      ]
     },
     "metadata": {},
     "output_type": "display_data"
    },
    {
     "name": "stdout",
     "output_type": "stream",
     "text": [
      "Number of sequences processed : 17000 ----- Cost per sequence(bits) : 0.276\n"
     ]
    },
    {
     "data": {
      "text/plain": [
       "<matplotlib.figure.Figure at 0x118dbe8d0>"
      ]
     },
     "metadata": {},
     "output_type": "display_data"
    },
    {
     "data": {
      "image/png": "[encoded data removed]",
      "text/plain": [
       "<matplotlib.figure.Figure at 0x10bffec10>"
      ]
     },
     "metadata": {},
     "output_type": "display_data"
    },
    {
     "name": "stdout",
     "output_type": "stream",
     "text": [
      "Number of sequences processed : 18000 ----- Cost per sequence(bits) : 0.272\n"
     ]
    },
    {
     "data": {
      "text/plain": [
       "<matplotlib.figure.Figure at 0x118e7f310>"
      ]
     },
     "metadata": {},
     "output_type": "display_data"
    },
    {
     "data": {
      "image/png": "[encoded data removed]",
      "text/plain": [
       "<matplotlib.figure.Figure at 0x10bf37790>"
      ]
     },
     "metadata": {},
     "output_type": "display_data"
    },
    {
     "name": "stdout",
     "output_type": "stream",
     "text": [
      "Number of sequences processed : 19000 ----- Cost per sequence(bits) : 0.164\n"
     ]
    },
    {
     "data": {
      "text/plain": [
       "<matplotlib.figure.Figure at 0x118ef9b90>"
      ]
     },
     "metadata": {},
     "output_type": "display_data"
    },
    {
     "data": {
      "image/png": "[encoded data removed]",
      "text/plain": [
       "<matplotlib.figure.Figure at 0x1149e2190>"
      ]
     },
     "metadata": {},
     "output_type": "display_data"
    },
    {
     "name": "stdout",
     "output_type": "stream",
     "text": [
      "Number of sequences processed : 20000 ----- Cost per sequence(bits) : 0.052\n"
     ]
    },
    {
     "data": {
      "text/plain": [
       "<matplotlib.figure.Figure at 0x118d8bf90>"
      ]
     },
     "metadata": {},
     "output_type": "display_data"
    },
    {
     "data": {
      "image/png": "[encoded data removed]",
      "text/plain": [
       "<matplotlib.figure.Figure at 0x1149e2190>"
      ]
     },
     "metadata": {},
     "output_type": "display_data"
    },
    {
     "name": "stdout",
     "output_type": "stream",
     "text": [
      "Number of sequences processed : 21000 ----- Cost per sequence(bits) : 0.022\n"
     ]
    },
    {
     "data": {
      "text/plain": [
       "<matplotlib.figure.Figure at 0x118e30f90>"
      ]
     },
     "metadata": {},
     "output_type": "display_data"
    },
    {
     "data": {
      "image/png": "[encoded data removed]",
      "text/plain": [
       "<matplotlib.figure.Figure at 0x1149e2190>"
      ]
     },
     "metadata": {},
     "output_type": "display_data"
    },
    {
     "name": "stdout",
     "output_type": "stream",
     "text": [
      "Number of sequences processed : 22000 ----- Cost per sequence(bits) : 0.009\n"
     ]
    },
    {
     "data": {
      "text/plain": [
       "<matplotlib.figure.Figure at 0x118d50310>"
      ]
     },
     "metadata": {},
     "output_type": "display_data"
    },
    {
     "data": {
      "image/png": "[encoded data removed]",
      "text/plain": [
       "<matplotlib.figure.Figure at 0x10ae86350>"
      ]
     },
     "metadata": {},
     "output_type": "display_data"
    },
    {
     "name": "stdout",
     "output_type": "stream",
     "text": [
      "Number of sequences processed : 23000 ----- Cost per sequence(bits) : 0.008\n"
     ]
    },
    {
     "data": {
      "text/plain": [
       "<matplotlib.figure.Figure at 0x118feffd0>"
      ]
     },
     "metadata": {},
     "output_type": "display_data"
    },
    {
     "data": {
      "image/png": "[encoded data removed]",
      "text/plain": [
       "<matplotlib.figure.Figure at 0x114a1f550>"
      ]
     },
     "metadata": {},
     "output_type": "display_data"
    },
    {
     "name": "stdout",
     "output_type": "stream",
     "text": [
      "Number of sequences processed : 24000 ----- Cost per sequence(bits) : 0.002\n"
     ]
    },
    {
     "data": {
      "text/plain": [
       "<matplotlib.figure.Figure at 0x11900bb90>"
      ]
     },
     "metadata": {},
     "output_type": "display_data"
    },
    {
     "data": {
      "image/png": "[encoded data removed]",
      "text/plain": [
       "<matplotlib.figure.Figure at 0x10a3c3a10>"
      ]
     },
     "metadata": {},
     "output_type": "display_data"
    },
    {
     "name": "stdout",
     "output_type": "stream",
     "text": [
      "Number of sequences processed : 25000 ----- Cost per sequence(bits) : 0.003\n"
     ]
    },
    {
     "data": {
      "text/plain": [
       "<matplotlib.figure.Figure at 0x118e92850>"
      ]
     },
     "metadata": {},
     "output_type": "display_data"
    },
    {
     "data": {
      "image/png": "[encoded data removed]",
      "text/plain": [
       "<matplotlib.figure.Figure at 0x10ae86350>"
      ]
     },
     "metadata": {},
     "output_type": "display_data"
    },
    {
     "name": "stdout",
     "output_type": "stream",
     "text": [
      "Number of sequences processed : 26000 ----- Cost per sequence(bits) : 0.001\n"
     ]
    },
    {
     "data": {
      "text/plain": [
       "<matplotlib.figure.Figure at 0x1190d0e50>"
      ]
     },
     "metadata": {},
     "output_type": "display_data"
    },
    {
     "data": {
      "image/png": "[encoded data removed]",
      "text/plain": [
       "<matplotlib.figure.Figure at 0x10ae86350>"
      ]
     },
     "metadata": {},
     "output_type": "display_data"
    },
    {
     "name": "stdout",
     "output_type": "stream",
     "text": [
      "Number of sequences processed : 27000 ----- Cost per sequence(bits) : 0.000\n"
     ]
    },
    {
     "data": {
      "text/plain": [
       "<matplotlib.figure.Figure at 0x118f28a50>"
      ]
     },
     "metadata": {},
     "output_type": "display_data"
    },
    {
     "data": {
      "image/png": "[encoded data removed]",
      "text/plain": [
       "<matplotlib.figure.Figure at 0x114a39bd0>"
      ]
     },
     "metadata": {},
     "output_type": "display_data"
    },
    {
     "name": "stdout",
     "output_type": "stream",
     "text": [
      "Number of sequences processed : 28000 ----- Cost per sequence(bits) : 0.000\n"
     ]
    },
    {
     "data": {
      "text/plain": [
       "<matplotlib.figure.Figure at 0x1190a7e50>"
      ]
     },
     "metadata": {},
     "output_type": "display_data"
    },
    {
     "data": {
      "image/png": "[encoded data removed]",
      "text/plain": [
       "<matplotlib.figure.Figure at 0x10bfb4f50>"
      ]
     },
     "metadata": {},
     "output_type": "display_data"
    },
    {
     "name": "stdout",
     "output_type": "stream",
     "text": [
      "Number of sequences processed : 29000 ----- Cost per sequence(bits) : 0.003\n"
     ]
    },
    {
     "data": {
      "text/plain": [
       "<matplotlib.figure.Figure at 0x118d31650>"
      ]
     },
     "metadata": {},
     "output_type": "display_data"
    },
    {
     "data": {
      "image/png": "[encoded data removed]",
      "text/plain": [
       "<matplotlib.figure.Figure at 0x1149e2190>"
      ]
     },
     "metadata": {},
     "output_type": "display_data"
    },
    {
     "name": "stdout",
     "output_type": "stream",
     "text": [
      "Number of sequences processed : 30000 ----- Cost per sequence(bits) : 0.000\n"
     ]
    },
    {
     "data": {
      "text/plain": [
       "<matplotlib.figure.Figure at 0x118d26110>"
      ]
     },
     "metadata": {},
     "output_type": "display_data"
    },
    {
     "data": {
      "image/png": "[encoded data removed]",
      "text/plain": [
       "<matplotlib.figure.Figure at 0x10b948ed0>"
      ]
     },
     "metadata": {},
     "output_type": "display_data"
    },
    {
     "name": "stdout",
     "output_type": "stream",
     "text": [
      "Number of sequences processed : 31000 ----- Cost per sequence(bits) : 0.005\n"
     ]
    },
    {
     "data": {
      "text/plain": [
       "<matplotlib.figure.Figure at 0x118ea8a90>"
      ]
     },
     "metadata": {},
     "output_type": "display_data"
    },
    {
     "data": {
      "image/png": "[encoded data removed]",
      "text/plain": [
       "<matplotlib.figure.Figure at 0x114a1f550>"
      ]
     },
     "metadata": {},
     "output_type": "display_data"
    },
    {
     "name": "stdout",
     "output_type": "stream",
     "text": [
      "Number of sequences processed : 32000 ----- Cost per sequence(bits) : 0.000\n"
     ]
    },
    {
     "data": {
      "text/plain": [
       "<matplotlib.figure.Figure at 0x118e89090>"
      ]
     },
     "metadata": {},
     "output_type": "display_data"
    },
    {
     "data": {
      "image/png": "[encoded data removed]",
      "text/plain": [
       "<matplotlib.figure.Figure at 0x10bfb4f50>"
      ]
     },
     "metadata": {},
     "output_type": "display_data"
    },
    {
     "name": "stdout",
     "output_type": "stream",
     "text": [
      "Number of sequences processed : 33000 ----- Cost per sequence(bits) : 0.012\n"
     ]
    },
    {
     "data": {
      "text/plain": [
       "<matplotlib.figure.Figure at 0x118cfa3d0>"
      ]
     },
     "metadata": {},
     "output_type": "display_data"
    },
    {
     "data": {
      "image/png": "[encoded data removed]",
      "text/plain": [
       "<matplotlib.figure.Figure at 0x1149e2190>"
      ]
     },
     "metadata": {},
     "output_type": "display_data"
    },
    {
     "name": "stdout",
     "output_type": "stream",
     "text": [
      "Number of sequences processed : 34000 ----- Cost per sequence(bits) : 0.000\n"
     ]
    },
    {
     "data": {
      "text/plain": [
       "<matplotlib.figure.Figure at 0x118ead4d0>"
      ]
     },
     "metadata": {},
     "output_type": "display_data"
    },
    {
     "data": {
      "image/png": "[encoded data removed]",
      "text/plain": [
       "<matplotlib.figure.Figure at 0x10a3c3a10>"
      ]
     },
     "metadata": {},
     "output_type": "display_data"
    },
    {
     "name": "stdout",
     "output_type": "stream",
     "text": [
      "Number of sequences processed : 35000 ----- Cost per sequence(bits) : 0.004\n"
     ]
    },
    {
     "data": {
      "text/plain": [
       "<matplotlib.figure.Figure at 0x118dbbad0>"
      ]
     },
     "metadata": {},
     "output_type": "display_data"
    },
    {
     "data": {
      "image/png": "[encoded data removed]",
      "text/plain": [
       "<matplotlib.figure.Figure at 0x10bf37790>"
      ]
     },
     "metadata": {},
     "output_type": "display_data"
    },
    {
     "name": "stdout",
     "output_type": "stream",
     "text": [
      "Number of sequences processed : 36000 ----- Cost per sequence(bits) : 0.001\n"
     ]
    },
    {
     "data": {
      "text/plain": [
       "<matplotlib.figure.Figure at 0x119012f90>"
      ]
     },
     "metadata": {},
     "output_type": "display_data"
    },
    {
     "data": {
      "image/png": "[encoded data removed]",
      "text/plain": [
       "<matplotlib.figure.Figure at 0x1149e2190>"
      ]
     },
     "metadata": {},
     "output_type": "display_data"
    },
    {
     "name": "stdout",
     "output_type": "stream",
     "text": [
      "Number of sequences processed : 37000 ----- Cost per sequence(bits) : 0.000\n"
     ]
    },
    {
     "data": {
      "text/plain": [
       "<matplotlib.figure.Figure at 0x118df4a10>"
      ]
     },
     "metadata": {},
     "output_type": "display_data"
    },
    {
     "data": {
      "image/png": "[encoded data removed]",
      "text/plain": [
       "<matplotlib.figure.Figure at 0x10bd67050>"
      ]
     },
     "metadata": {},
     "output_type": "display_data"
    },
    {
     "name": "stdout",
     "output_type": "stream",
     "text": [
      "Number of sequences processed : 38000 ----- Cost per sequence(bits) : 0.003\n"
     ]
    },
    {
     "data": {
      "text/plain": [
       "<matplotlib.figure.Figure at 0x118e67fd0>"
      ]
     },
     "metadata": {},
     "output_type": "display_data"
    },
    {
     "data": {
      "image/png": "[encoded data removed]",
      "text/plain": [
       "<matplotlib.figure.Figure at 0x10bd67050>"
      ]
     },
     "metadata": {},
     "output_type": "display_data"
    },
    {
     "name": "stdout",
     "output_type": "stream",
     "text": [
      "Number of sequences processed : 39000 ----- Cost per sequence(bits) : 0.000\n"
     ]
    },
    {
     "data": {
      "text/plain": [
       "<matplotlib.figure.Figure at 0x118d4cf90>"
      ]
     },
     "metadata": {},
     "output_type": "display_data"
    },
    {
     "data": {
      "image/png": "[encoded data removed]",
      "text/plain": [
       "<matplotlib.figure.Figure at 0x114ad6650>"
      ]
     },
     "metadata": {},
     "output_type": "display_data"
    },
    {
     "name": "stdout",
     "output_type": "stream",
     "text": [
      "Number of sequences processed : 40000 ----- Cost per sequence(bits) : 0.000\n"
     ]
    },
    {
     "data": {
      "text/plain": [
       "<matplotlib.figure.Figure at 0x118e3fa10>"
      ]
     },
     "metadata": {},
     "output_type": "display_data"
    },
    {
     "data": {
      "image/png": "[encoded data removed]",
      "text/plain": [
       "<matplotlib.figure.Figure at 0x1149e2190>"
      ]
     },
     "metadata": {},
     "output_type": "display_data"
    },
    {
     "name": "stdout",
     "output_type": "stream",
     "text": [
      "Number of sequences processed : 41000 ----- Cost per sequence(bits) : 0.003\n"
     ]
    },
    {
     "data": {
      "text/plain": [
       "<matplotlib.figure.Figure at 0x118e3b410>"
      ]
     },
     "metadata": {},
     "output_type": "display_data"
    },
    {
     "data": {
      "image/png": "[encoded data removed]",
      "text/plain": [
       "<matplotlib.figure.Figure at 0x114a1f590>"
      ]
     },
     "metadata": {},
     "output_type": "display_data"
    },
    {
     "name": "stdout",
     "output_type": "stream",
     "text": [
      "Number of sequences processed : 42000 ----- Cost per sequence(bits) : 0.000\n"
     ]
    },
    {
     "data": {
      "text/plain": [
       "<matplotlib.figure.Figure at 0x118f01190>"
      ]
     },
     "metadata": {},
     "output_type": "display_data"
    },
    {
     "data": {
      "image/png": "[encoded data removed]",
      "text/plain": [
       "<matplotlib.figure.Figure at 0x114a1f590>"
      ]
     },
     "metadata": {},
     "output_type": "display_data"
    },
    {
     "name": "stdout",
     "output_type": "stream",
     "text": [
      "Number of sequences processed : 43000 ----- Cost per sequence(bits) : 0.000\n"
     ]
    },
    {
     "data": {
      "text/plain": [
       "<matplotlib.figure.Figure at 0x10bfd3050>"
      ]
     },
     "metadata": {},
     "output_type": "display_data"
    },
    {
     "data": {
      "image/png": "[encoded data removed]",
      "text/plain": [
       "<matplotlib.figure.Figure at 0x10b948ed0>"
      ]
     },
     "metadata": {},
     "output_type": "display_data"
    },
    {
     "name": "stdout",
     "output_type": "stream",
     "text": [
      "Number of sequences processed : 44000 ----- Cost per sequence(bits) : 0.000\n"
     ]
    },
    {
     "data": {
      "text/plain": [
       "<matplotlib.figure.Figure at 0x118f2bf50>"
      ]
     },
     "metadata": {},
     "output_type": "display_data"
    },
    {
     "data": {
      "image/png": "[encoded data removed]",
      "text/plain": [
       "<matplotlib.figure.Figure at 0x114a1f590>"
      ]
     },
     "metadata": {},
     "output_type": "display_data"
    },
    {
     "name": "stdout",
     "output_type": "stream",
     "text": [
      "Number of sequences processed : 45000 ----- Cost per sequence(bits) : 0.000\n"
     ]
    },
    {
     "data": {
      "text/plain": [
       "<matplotlib.figure.Figure at 0x118d789d0>"
      ]
     },
     "metadata": {},
     "output_type": "display_data"
    },
    {
     "data": {
      "image/png": "[encoded data removed]",
      "text/plain": [
       "<matplotlib.figure.Figure at 0x10bf37790>"
      ]
     },
     "metadata": {},
     "output_type": "display_data"
    },
    {
     "name": "stdout",
     "output_type": "stream",
     "text": [
      "Number of sequences processed : 46000 ----- Cost per sequence(bits) : 0.000\n"
     ]
    },
    {
     "data": {
      "text/plain": [
       "<matplotlib.figure.Figure at 0x118ea4110>"
      ]
     },
     "metadata": {},
     "output_type": "display_data"
    },
    {
     "data": {
      "image/png": "[encoded data removed]",
      "text/plain": [
       "<matplotlib.figure.Figure at 0x114ad6650>"
      ]
     },
     "metadata": {},
     "output_type": "display_data"
    },
    {
     "name": "stdout",
     "output_type": "stream",
     "text": [
      "Number of sequences processed : 47000 ----- Cost per sequence(bits) : 0.000\n"
     ]
    },
    {
     "data": {
      "text/plain": [
       "<matplotlib.figure.Figure at 0x118ddb0d0>"
      ]
     },
     "metadata": {},
     "output_type": "display_data"
    },
    {
     "data": {
      "image/png": "[encoded data removed]",
      "text/plain": [
       "<matplotlib.figure.Figure at 0x1149e2190>"
      ]
     },
     "metadata": {},
     "output_type": "display_data"
    },
    {
     "name": "stdout",
     "output_type": "stream",
     "text": [
      "Number of sequences processed : 48000 ----- Cost per sequence(bits) : 0.000\n"
     ]
    },
    {
     "data": {
      "text/plain": [
       "<matplotlib.figure.Figure at 0x118ff6fd0>"
      ]
     },
     "metadata": {},
     "output_type": "display_data"
    },
    {
     "data": {
      "image/png": "[encoded data removed]",
      "text/plain": [
       "<matplotlib.figure.Figure at 0x10bfb4f50>"
      ]
     },
     "metadata": {},
     "output_type": "display_data"
    },
    {
     "name": "stdout",
     "output_type": "stream",
     "text": [
      "Number of sequences processed : 49000 ----- Cost per sequence(bits) : 0.000\n"
     ]
    },
    {
     "data": {
      "text/plain": [
       "<matplotlib.figure.Figure at 0x118d95f10>"
      ]
     },
     "metadata": {},
     "output_type": "display_data"
    },
    {
     "data": {
      "image/png": "[encoded data removed]",
      "text/plain": [
       "<matplotlib.figure.Figure at 0x114a39bd0>"
      ]
     },
     "metadata": {},
     "output_type": "display_data"
    },
    {
     "data": {
      "text/plain": [
       "<matplotlib.figure.Figure at 0x118ff9f50>"
      ]
     },
     "metadata": {},
     "output_type": "display_data"
    }
   ],
   "source": [
    "lstm_ntm_BCEWLL_loss = train(lstm_ntm_BCEWLL, learning_rate=1e-4, print_every=1000, n_updates=50000, show_plot=True)"
   ]
  },
  {
   "cell_type": "code",
   "execution_count": 16,
   "metadata": {
    "collapsed": true
   },
   "outputs": [],
   "source": [
    "np.savetxt(\"lstm_ntm_BCEWLL_loss.txt\", np.array(lstm_ntm_BCEWLL_loss))\n",
    "torch.save(lstm_ntm_BCEWLL.state_dict(), \"lstm_ntm_BCEWLL.pt\")"
   ]
  },
  {
   "cell_type": "code",
   "execution_count": 18,
   "metadata": {},
   "outputs": [
    {
     "data": {
      "image/png": "[encoded data removed]",
      "text/plain": [
       "<matplotlib.figure.Figure at 0x118db8210>"
      ]
     },
     "metadata": {},
     "output_type": "display_data"
    }
   ],
   "source": [
    "# Graphics\n",
    "pylab.plot(np.arange(0,50000,1000), lstm_ntm_BCEWLL_loss)\n",
    "pyplot.xlabel(\"Number of sequences processed\")\n",
    "pyplot.ylabel(\"Cost per sequence(bits)\")\n",
    "legend()"
   ]
  },
  {
   "cell_type": "code",
   "execution_count": 15,
   "metadata": {
    "colab": {
     "autoexec": {
      "startup": false,
      "wait_interval": 0
     },
     "base_uri": "https://localhost:8080/",
     "height": 4705,
     "output_extras": [
      {
       "item_id": 1
      },
      {
       "item_id": 2
      },
      {
       "item_id": 3
      },
      {
       "item_id": 4
      },
      {
       "item_id": 5
      },
      {
       "item_id": 6
      },
      {
       "item_id": 7
      },
      {
       "item_id": 8
      },
      {
       "item_id": 9
      },
      {
       "item_id": 10
      },
      {
       "item_id": 11
      },
      {
       "item_id": 12
      },
      {
       "item_id": 13
      },
      {
       "item_id": 14
      },
      {
       "item_id": 15
      },
      {
       "item_id": 16
      },
      {
       "item_id": 17
      },
      {
       "item_id": 18
      },
      {
       "item_id": 19
      },
      {
       "item_id": 20
      },
      {
       "item_id": 21
      },
      {
       "item_id": 22
      },
      {
       "item_id": 23
      },
      {
       "item_id": 24
      },
      {
       "item_id": 25
      },
      {
       "item_id": 26
      },
      {
       "item_id": 27
      },
      {
       "item_id": 28
      },
      {
       "item_id": 29
      },
      {
       "item_id": 30
      },
      {
       "item_id": 31
      },
      {
       "item_id": 32
      },
      {
       "item_id": 33
      },
      {
       "item_id": 34
      },
      {
       "item_id": 35
      },
      {
       "item_id": 36
      },
      {
       "item_id": 37
      }
     ]
    },
    "colab_type": "code",
    "executionInfo": {
     "elapsed": 1192376,
     "status": "error",
     "timestamp": 1522378673276,
     "user": {
      "displayName": "Patrice Béchard",
      "photoUrl": "//lh3.googleusercontent.com/-bL5zJjq50s8/AAAAAAAAAAI/AAAAAAAAJg4/tTYa0EKiWok/s50-c-k-no/photo.jpg",
      "userId": "107700311785587995610"
     },
     "user_tz": 240
    },
    "id": "VdrZ5EskzGj3",
    "outputId": "8b0a710d-e6be-4067-e85e-c0e27161be3f"
   },
   "outputs": [
    {
     "name": "stdout",
     "output_type": "stream",
     "text": [
      "Number of sequences processed : 0 ----- Cost per sequence(bits) : 0.691\n"
     ]
    },
    {
     "data": {
      "image/png": "[encoded data removed]",
      "text/plain": [
       "<matplotlib.figure.Figure at 0x115dcabd0>"
      ]
     },
     "metadata": {},
     "output_type": "display_data"
    },
    {
     "name": "stdout",
     "output_type": "stream",
     "text": [
      "Number of sequences processed : 1000 ----- Cost per sequence(bits) : 0.333\n"
     ]
    },
    {
     "data": {
      "text/plain": [
       "<matplotlib.figure.Figure at 0x116a31790>"
      ]
     },
     "metadata": {},
     "output_type": "display_data"
    },
    {
     "data": {
      "image/png": "[encoded data removed]",
      "text/plain": [
       "<matplotlib.figure.Figure at 0x115ec7050>"
      ]
     },
     "metadata": {},
     "output_type": "display_data"
    },
    {
     "name": "stdout",
     "output_type": "stream",
     "text": [
      "Number of sequences processed : 2000 ----- Cost per sequence(bits) : 0.284\n"
     ]
    },
    {
     "data": {
      "text/plain": [
       "<matplotlib.figure.Figure at 0x11a302c10>"
      ]
     },
     "metadata": {},
     "output_type": "display_data"
    },
    {
     "data": {
      "image/png": "[encoded data removed]",
      "text/plain": [
       "<matplotlib.figure.Figure at 0x115dcabd0>"
      ]
     },
     "metadata": {},
     "output_type": "display_data"
    },
    {
     "name": "stdout",
     "output_type": "stream",
     "text": [
      "Number of sequences processed : 3000 ----- Cost per sequence(bits) : 0.285\n"
     ]
    },
    {
     "data": {
      "text/plain": [
       "<matplotlib.figure.Figure at 0x11a132a50>"
      ]
     },
     "metadata": {},
     "output_type": "display_data"
    },
    {
     "data": {
      "image/png": "[encoded data removed]",
      "text/plain": [
       "<matplotlib.figure.Figure at 0x115ec1fd0>"
      ]
     },
     "metadata": {},
     "output_type": "display_data"
    },
    {
     "name": "stdout",
     "output_type": "stream",
     "text": [
      "Number of sequences processed : 4000 ----- Cost per sequence(bits) : 0.281\n"
     ]
    },
    {
     "data": {
      "text/plain": [
       "<matplotlib.figure.Figure at 0x11a0e7e10>"
      ]
     },
     "metadata": {},
     "output_type": "display_data"
    },
    {
     "data": {
      "image/png": "[encoded data removed]",
      "text/plain": [
       "<matplotlib.figure.Figure at 0x10d2c8c10>"
      ]
     },
     "metadata": {},
     "output_type": "display_data"
    },
    {
     "name": "stdout",
     "output_type": "stream",
     "text": [
      "Number of sequences processed : 5000 ----- Cost per sequence(bits) : 0.284\n"
     ]
    },
    {
     "data": {
      "text/plain": [
       "<matplotlib.figure.Figure at 0x11a1018d0>"
      ]
     },
     "metadata": {},
     "output_type": "display_data"
    },
    {
     "data": {
      "image/png": "[encoded data removed]",
      "text/plain": [
       "<matplotlib.figure.Figure at 0x10d2c8c10>"
      ]
     },
     "metadata": {},
     "output_type": "display_data"
    },
    {
     "name": "stdout",
     "output_type": "stream",
     "text": [
      "Number of sequences processed : 6000 ----- Cost per sequence(bits) : 0.281\n"
     ]
    },
    {
     "data": {
      "text/plain": [
       "<matplotlib.figure.Figure at 0x11a2e7d90>"
      ]
     },
     "metadata": {},
     "output_type": "display_data"
    },
    {
     "data": {
      "image/png": "[encoded data removed]",
      "text/plain": [
       "<matplotlib.figure.Figure at 0x10b75aa10>"
      ]
     },
     "metadata": {},
     "output_type": "display_data"
    },
    {
     "name": "stdout",
     "output_type": "stream",
     "text": [
      "Number of sequences processed : 7000 ----- Cost per sequence(bits) : 0.280\n"
     ]
    },
    {
     "data": {
      "text/plain": [
       "<matplotlib.figure.Figure at 0x11a0becd0>"
      ]
     },
     "metadata": {},
     "output_type": "display_data"
    },
    {
     "data": {
      "image/png": "[encoded data removed]",
      "text/plain": [
       "<matplotlib.figure.Figure at 0x10b75aa10>"
      ]
     },
     "metadata": {},
     "output_type": "display_data"
    },
    {
     "name": "stdout",
     "output_type": "stream",
     "text": [
      "Number of sequences processed : 8000 ----- Cost per sequence(bits) : 0.278\n"
     ]
    },
    {
     "data": {
      "text/plain": [
       "<matplotlib.figure.Figure at 0x11a0d5710>"
      ]
     },
     "metadata": {},
     "output_type": "display_data"
    },
    {
     "data": {
      "image/png": "[encoded data removed]",
      "text/plain": [
       "<matplotlib.figure.Figure at 0x10b75aa10>"
      ]
     },
     "metadata": {},
     "output_type": "display_data"
    },
    {
     "name": "stdout",
     "output_type": "stream",
     "text": [
      "Number of sequences processed : 9000 ----- Cost per sequence(bits) : 0.278\n"
     ]
    },
    {
     "data": {
      "text/plain": [
       "<matplotlib.figure.Figure at 0x11a099f50>"
      ]
     },
     "metadata": {},
     "output_type": "display_data"
    },
    {
     "data": {
      "image/png": "[encoded data removed]",
      "text/plain": [
       "<matplotlib.figure.Figure at 0x10d2c8c10>"
      ]
     },
     "metadata": {},
     "output_type": "display_data"
    },
    {
     "name": "stdout",
     "output_type": "stream",
     "text": [
      "Number of sequences processed : 10000 ----- Cost per sequence(bits) : 0.278\n"
     ]
    },
    {
     "data": {
      "text/plain": [
       "<matplotlib.figure.Figure at 0x11a06ef50>"
      ]
     },
     "metadata": {},
     "output_type": "display_data"
    },
    {
     "data": {
      "image/png": "[encoded data removed]",
      "text/plain": [
       "<matplotlib.figure.Figure at 0x115dcabd0>"
      ]
     },
     "metadata": {},
     "output_type": "display_data"
    },
    {
     "name": "stdout",
     "output_type": "stream",
     "text": [
      "Number of sequences processed : 11000 ----- Cost per sequence(bits) : 0.278\n"
     ]
    },
    {
     "data": {
      "text/plain": [
       "<matplotlib.figure.Figure at 0x11a0c0e10>"
      ]
     },
     "metadata": {},
     "output_type": "display_data"
    },
    {
     "data": {
      "image/png": "[encoded data removed]",
      "text/plain": [
       "<matplotlib.figure.Figure at 0x115e65650>"
      ]
     },
     "metadata": {},
     "output_type": "display_data"
    },
    {
     "name": "stdout",
     "output_type": "stream",
     "text": [
      "Number of sequences processed : 12000 ----- Cost per sequence(bits) : 0.274\n"
     ]
    },
    {
     "data": {
      "text/plain": [
       "<matplotlib.figure.Figure at 0x1169a3090>"
      ]
     },
     "metadata": {},
     "output_type": "display_data"
    },
    {
     "data": {
      "image/png": "[encoded data removed]",
      "text/plain": [
       "<matplotlib.figure.Figure at 0x115e65650>"
      ]
     },
     "metadata": {},
     "output_type": "display_data"
    },
    {
     "name": "stdout",
     "output_type": "stream",
     "text": [
      "Number of sequences processed : 13000 ----- Cost per sequence(bits) : 0.271\n"
     ]
    },
    {
     "data": {
      "text/plain": [
       "<matplotlib.figure.Figure at 0x11a0eda50>"
      ]
     },
     "metadata": {},
     "output_type": "display_data"
    },
    {
     "data": {
      "image/png": "[encoded data removed]",
      "text/plain": [
       "<matplotlib.figure.Figure at 0x10d2c8c10>"
      ]
     },
     "metadata": {},
     "output_type": "display_data"
    },
    {
     "name": "stdout",
     "output_type": "stream",
     "text": [
      "Number of sequences processed : 14000 ----- Cost per sequence(bits) : 0.268\n"
     ]
    },
    {
     "data": {
      "text/plain": [
       "<matplotlib.figure.Figure at 0x11a18dc10>"
      ]
     },
     "metadata": {},
     "output_type": "display_data"
    },
    {
     "data": {
      "image/png": "[encoded data removed]",
      "text/plain": [
       "<matplotlib.figure.Figure at 0x10b75aa10>"
      ]
     },
     "metadata": {},
     "output_type": "display_data"
    },
    {
     "name": "stdout",
     "output_type": "stream",
     "text": [
      "Number of sequences processed : 15000 ----- Cost per sequence(bits) : 0.256\n"
     ]
    },
    {
     "data": {
      "text/plain": [
       "<matplotlib.figure.Figure at 0x11a190cd0>"
      ]
     },
     "metadata": {},
     "output_type": "display_data"
    },
    {
     "data": {
      "image/png": "[encoded data removed]",
      "text/plain": [
       "<matplotlib.figure.Figure at 0x115db0590>"
      ]
     },
     "metadata": {},
     "output_type": "display_data"
    },
    {
     "name": "stdout",
     "output_type": "stream",
     "text": [
      "Number of sequences processed : 16000 ----- Cost per sequence(bits) : 0.215\n"
     ]
    },
    {
     "data": {
      "text/plain": [
       "<matplotlib.figure.Figure at 0x11a0bac10>"
      ]
     },
     "metadata": {},
     "output_type": "display_data"
    },
    {
     "data": {
      "image/png": "[encoded data removed]",
      "text/plain": [
       "<matplotlib.figure.Figure at 0x10c219350>"
      ]
     },
     "metadata": {},
     "output_type": "display_data"
    },
    {
     "name": "stdout",
     "output_type": "stream",
     "text": [
      "Number of sequences processed : 17000 ----- Cost per sequence(bits) : 0.065\n"
     ]
    },
    {
     "data": {
      "text/plain": [
       "<matplotlib.figure.Figure at 0x11a223710>"
      ]
     },
     "metadata": {},
     "output_type": "display_data"
    },
    {
     "data": {
      "image/png": "[encoded data removed]",
      "text/plain": [
       "<matplotlib.figure.Figure at 0x115ec1fd0>"
      ]
     },
     "metadata": {},
     "output_type": "display_data"
    },
    {
     "name": "stdout",
     "output_type": "stream",
     "text": [
      "Number of sequences processed : 18000 ----- Cost per sequence(bits) : 0.076\n"
     ]
    },
    {
     "data": {
      "text/plain": [
       "<matplotlib.figure.Figure at 0x116a76350>"
      ]
     },
     "metadata": {},
     "output_type": "display_data"
    },
    {
     "data": {
      "image/png": "[encoded data removed]",
      "text/plain": [
       "<matplotlib.figure.Figure at 0x10c219350>"
      ]
     },
     "metadata": {},
     "output_type": "display_data"
    },
    {
     "name": "stdout",
     "output_type": "stream",
     "text": [
      "Number of sequences processed : 19000 ----- Cost per sequence(bits) : 0.007\n"
     ]
    },
    {
     "data": {
      "text/plain": [
       "<matplotlib.figure.Figure at 0x11a15bf50>"
      ]
     },
     "metadata": {},
     "output_type": "display_data"
    },
    {
     "data": {
      "image/png": "[encoded data removed]",
      "text/plain": [
       "<matplotlib.figure.Figure at 0x115e65650>"
      ]
     },
     "metadata": {},
     "output_type": "display_data"
    },
    {
     "name": "stdout",
     "output_type": "stream",
     "text": [
      "Number of sequences processed : 20000 ----- Cost per sequence(bits) : 0.002\n"
     ]
    },
    {
     "data": {
      "text/plain": [
       "<matplotlib.figure.Figure at 0x11a071050>"
      ]
     },
     "metadata": {},
     "output_type": "display_data"
    },
    {
     "data": {
      "image/png": "[encoded data removed]",
      "text/plain": [
       "<matplotlib.figure.Figure at 0x10c219350>"
      ]
     },
     "metadata": {},
     "output_type": "display_data"
    },
    {
     "name": "stdout",
     "output_type": "stream",
     "text": [
      "Number of sequences processed : 21000 ----- Cost per sequence(bits) : 0.020\n"
     ]
    },
    {
     "data": {
      "text/plain": [
       "<matplotlib.figure.Figure at 0x11a07abd0>"
      ]
     },
     "metadata": {},
     "output_type": "display_data"
    },
    {
     "data": {
      "image/png": "[encoded data removed]",
      "text/plain": [
       "<matplotlib.figure.Figure at 0x115dcabd0>"
      ]
     },
     "metadata": {},
     "output_type": "display_data"
    },
    {
     "name": "stdout",
     "output_type": "stream",
     "text": [
      "Number of sequences processed : 22000 ----- Cost per sequence(bits) : 0.004\n"
     ]
    },
    {
     "data": {
      "text/plain": [
       "<matplotlib.figure.Figure at 0x11a2e1610>"
      ]
     },
     "metadata": {},
     "output_type": "display_data"
    },
    {
     "data": {
      "image/png": "[encoded data removed]",
      "text/plain": [
       "<matplotlib.figure.Figure at 0x115db0550>"
      ]
     },
     "metadata": {},
     "output_type": "display_data"
    },
    {
     "name": "stdout",
     "output_type": "stream",
     "text": [
      "Number of sequences processed : 23000 ----- Cost per sequence(bits) : 0.019\n"
     ]
    },
    {
     "data": {
      "text/plain": [
       "<matplotlib.figure.Figure at 0x11a2dd290>"
      ]
     },
     "metadata": {},
     "output_type": "display_data"
    },
    {
     "data": {
      "image/png": "[encoded data removed]",
      "text/plain": [
       "<matplotlib.figure.Figure at 0x115db0550>"
      ]
     },
     "metadata": {},
     "output_type": "display_data"
    },
    {
     "name": "stdout",
     "output_type": "stream",
     "text": [
      "Number of sequences processed : 24000 ----- Cost per sequence(bits) : 0.015\n"
     ]
    },
    {
     "data": {
      "text/plain": [
       "<matplotlib.figure.Figure at 0x11a14fed0>"
      ]
     },
     "metadata": {},
     "output_type": "display_data"
    },
    {
     "data": {
      "image/png": "[encoded data removed]",
      "text/plain": [
       "<matplotlib.figure.Figure at 0x115ec7050>"
      ]
     },
     "metadata": {},
     "output_type": "display_data"
    },
    {
     "name": "stdout",
     "output_type": "stream",
     "text": [
      "Number of sequences processed : 25000 ----- Cost per sequence(bits) : 0.003\n"
     ]
    },
    {
     "data": {
      "text/plain": [
       "<matplotlib.figure.Figure at 0x11a0d0f50>"
      ]
     },
     "metadata": {},
     "output_type": "display_data"
    },
    {
     "data": {
      "image/png": "[encoded data removed]",
      "text/plain": [
       "<matplotlib.figure.Figure at 0x10b75aa10>"
      ]
     },
     "metadata": {},
     "output_type": "display_data"
    },
    {
     "name": "stdout",
     "output_type": "stream",
     "text": [
      "Number of sequences processed : 26000 ----- Cost per sequence(bits) : 0.003\n"
     ]
    },
    {
     "data": {
      "text/plain": [
       "<matplotlib.figure.Figure at 0x11a0a0ed0>"
      ]
     },
     "metadata": {},
     "output_type": "display_data"
    },
    {
     "data": {
      "image/png": "[encoded data removed]",
      "text/plain": [
       "<matplotlib.figure.Figure at 0x10c219350>"
      ]
     },
     "metadata": {},
     "output_type": "display_data"
    },
    {
     "name": "stdout",
     "output_type": "stream",
     "text": [
      "Number of sequences processed : 27000 ----- Cost per sequence(bits) : 0.008\n"
     ]
    },
    {
     "data": {
      "text/plain": [
       "<matplotlib.figure.Figure at 0x11a319bd0>"
      ]
     },
     "metadata": {},
     "output_type": "display_data"
    },
    {
     "data": {
      "image/png": "[encoded data removed]",
      "text/plain": [
       "<matplotlib.figure.Figure at 0x10c219350>"
      ]
     },
     "metadata": {},
     "output_type": "display_data"
    },
    {
     "name": "stdout",
     "output_type": "stream",
     "text": [
      "Number of sequences processed : 28000 ----- Cost per sequence(bits) : 0.000\n"
     ]
    },
    {
     "data": {
      "text/plain": [
       "<matplotlib.figure.Figure at 0x11a32db50>"
      ]
     },
     "metadata": {},
     "output_type": "display_data"
    },
    {
     "data": {
      "image/png": "[encoded data removed]",
      "text/plain": [
       "<matplotlib.figure.Figure at 0x10c219350>"
      ]
     },
     "metadata": {},
     "output_type": "display_data"
    },
    {
     "name": "stdout",
     "output_type": "stream",
     "text": [
      "Number of sequences processed : 29000 ----- Cost per sequence(bits) : 0.000\n"
     ]
    },
    {
     "data": {
      "text/plain": [
       "<matplotlib.figure.Figure at 0x11a310550>"
      ]
     },
     "metadata": {},
     "output_type": "display_data"
    },
    {
     "data": {
      "image/png": "[encoded data removed]",
      "text/plain": [
       "<matplotlib.figure.Figure at 0x115db0550>"
      ]
     },
     "metadata": {},
     "output_type": "display_data"
    },
    {
     "name": "stdout",
     "output_type": "stream",
     "text": [
      "Number of sequences processed : 30000 ----- Cost per sequence(bits) : 0.000\n"
     ]
    },
    {
     "data": {
      "text/plain": [
       "<matplotlib.figure.Figure at 0x11a316d10>"
      ]
     },
     "metadata": {},
     "output_type": "display_data"
    },
    {
     "data": {
      "image/png": "[encoded data removed]",
      "text/plain": [
       "<matplotlib.figure.Figure at 0x10b75aa10>"
      ]
     },
     "metadata": {},
     "output_type": "display_data"
    },
    {
     "name": "stdout",
     "output_type": "stream",
     "text": [
      "Number of sequences processed : 31000 ----- Cost per sequence(bits) : 0.000\n"
     ]
    },
    {
     "data": {
      "text/plain": [
       "<matplotlib.figure.Figure at 0x11a12dd10>"
      ]
     },
     "metadata": {},
     "output_type": "display_data"
    },
    {
     "data": {
      "image/png": "[encoded data removed]",
      "text/plain": [
       "<matplotlib.figure.Figure at 0x115db0550>"
      ]
     },
     "metadata": {},
     "output_type": "display_data"
    },
    {
     "name": "stdout",
     "output_type": "stream",
     "text": [
      "Number of sequences processed : 32000 ----- Cost per sequence(bits) : 0.004\n"
     ]
    },
    {
     "data": {
      "text/plain": [
       "<matplotlib.figure.Figure at 0x11a0df750>"
      ]
     },
     "metadata": {},
     "output_type": "display_data"
    },
    {
     "data": {
      "image/png": "[encoded data removed]",
      "text/plain": [
       "<matplotlib.figure.Figure at 0x115db0550>"
      ]
     },
     "metadata": {},
     "output_type": "display_data"
    },
    {
     "name": "stdout",
     "output_type": "stream",
     "text": [
      "Number of sequences processed : 33000 ----- Cost per sequence(bits) : 0.000\n"
     ]
    },
    {
     "data": {
      "text/plain": [
       "<matplotlib.figure.Figure at 0x11a222d90>"
      ]
     },
     "metadata": {},
     "output_type": "display_data"
    },
    {
     "data": {
      "image/png": "[encoded data removed]",
      "text/plain": [
       "<matplotlib.figure.Figure at 0x115db0550>"
      ]
     },
     "metadata": {},
     "output_type": "display_data"
    },
    {
     "name": "stdout",
     "output_type": "stream",
     "text": [
      "Number of sequences processed : 34000 ----- Cost per sequence(bits) : 0.019\n"
     ]
    },
    {
     "data": {
      "text/plain": [
       "<matplotlib.figure.Figure at 0x11a23ed90>"
      ]
     },
     "metadata": {},
     "output_type": "display_data"
    },
    {
     "data": {
      "image/png": "[encoded data removed]",
      "text/plain": [
       "<matplotlib.figure.Figure at 0x10b75aa10>"
      ]
     },
     "metadata": {},
     "output_type": "display_data"
    },
    {
     "name": "stdout",
     "output_type": "stream",
     "text": [
      "Number of sequences processed : 35000 ----- Cost per sequence(bits) : 0.003\n"
     ]
    },
    {
     "data": {
      "text/plain": [
       "<matplotlib.figure.Figure at 0x11a2439d0>"
      ]
     },
     "metadata": {},
     "output_type": "display_data"
    },
    {
     "data": {
      "image/png": "[encoded data removed]",
      "text/plain": [
       "<matplotlib.figure.Figure at 0x115db0550>"
      ]
     },
     "metadata": {},
     "output_type": "display_data"
    },
    {
     "name": "stdout",
     "output_type": "stream",
     "text": [
      "Number of sequences processed : 36000 ----- Cost per sequence(bits) : 0.000\n"
     ]
    },
    {
     "data": {
      "text/plain": [
       "<matplotlib.figure.Figure at 0x11a23bd90>"
      ]
     },
     "metadata": {},
     "output_type": "display_data"
    },
    {
     "data": {
      "image/png": "[encoded data removed]",
      "text/plain": [
       "<matplotlib.figure.Figure at 0x10d0f8050>"
      ]
     },
     "metadata": {},
     "output_type": "display_data"
    },
    {
     "name": "stdout",
     "output_type": "stream",
     "text": [
      "Number of sequences processed : 37000 ----- Cost per sequence(bits) : 0.000\n"
     ]
    },
    {
     "data": {
      "text/plain": [
       "<matplotlib.figure.Figure at 0x11a0ecd90>"
      ]
     },
     "metadata": {},
     "output_type": "display_data"
    },
    {
     "data": {
      "image/png": "[encoded data removed]",
      "text/plain": [
       "<matplotlib.figure.Figure at 0x10b75aa10>"
      ]
     },
     "metadata": {},
     "output_type": "display_data"
    },
    {
     "name": "stdout",
     "output_type": "stream",
     "text": [
      "Number of sequences processed : 38000 ----- Cost per sequence(bits) : 0.000\n"
     ]
    },
    {
     "data": {
      "text/plain": [
       "<matplotlib.figure.Figure at 0x116a76090>"
      ]
     },
     "metadata": {},
     "output_type": "display_data"
    },
    {
     "data": {
      "image/png": "[encoded data removed]",
      "text/plain": [
       "<matplotlib.figure.Figure at 0x10c219350>"
      ]
     },
     "metadata": {},
     "output_type": "display_data"
    },
    {
     "name": "stdout",
     "output_type": "stream",
     "text": [
      "Number of sequences processed : 39000 ----- Cost per sequence(bits) : 0.000\n"
     ]
    },
    {
     "data": {
      "text/plain": [
       "<matplotlib.figure.Figure at 0x11a358d90>"
      ]
     },
     "metadata": {},
     "output_type": "display_data"
    },
    {
     "data": {
      "image/png": "[encoded data removed]",
      "text/plain": [
       "<matplotlib.figure.Figure at 0x10d0f8050>"
      ]
     },
     "metadata": {},
     "output_type": "display_data"
    },
    {
     "name": "stdout",
     "output_type": "stream",
     "text": [
      "Number of sequences processed : 40000 ----- Cost per sequence(bits) : 0.000\n"
     ]
    },
    {
     "data": {
      "text/plain": [
       "<matplotlib.figure.Figure at 0x11a087790>"
      ]
     },
     "metadata": {},
     "output_type": "display_data"
    },
    {
     "data": {
      "image/png": "[encoded data removed]",
      "text/plain": [
       "<matplotlib.figure.Figure at 0x115e65650>"
      ]
     },
     "metadata": {},
     "output_type": "display_data"
    },
    {
     "name": "stdout",
     "output_type": "stream",
     "text": [
      "Number of sequences processed : 41000 ----- Cost per sequence(bits) : 0.000\n"
     ]
    },
    {
     "data": {
      "text/plain": [
       "<matplotlib.figure.Figure at 0x11a2eec50>"
      ]
     },
     "metadata": {},
     "output_type": "display_data"
    },
    {
     "data": {
      "image/png": "[encoded data removed]",
      "text/plain": [
       "<matplotlib.figure.Figure at 0x115e65650>"
      ]
     },
     "metadata": {},
     "output_type": "display_data"
    },
    {
     "name": "stdout",
     "output_type": "stream",
     "text": [
      "Number of sequences processed : 42000 ----- Cost per sequence(bits) : 0.000\n"
     ]
    },
    {
     "data": {
      "text/plain": [
       "<matplotlib.figure.Figure at 0x11a188d10>"
      ]
     },
     "metadata": {},
     "output_type": "display_data"
    },
    {
     "data": {
      "image/png": "[encoded data removed]",
      "text/plain": [
       "<matplotlib.figure.Figure at 0x115dcabd0>"
      ]
     },
     "metadata": {},
     "output_type": "display_data"
    },
    {
     "name": "stdout",
     "output_type": "stream",
     "text": [
      "Number of sequences processed : 43000 ----- Cost per sequence(bits) : 0.000\n"
     ]
    },
    {
     "data": {
      "text/plain": [
       "<matplotlib.figure.Figure at 0x11a3553d0>"
      ]
     },
     "metadata": {},
     "output_type": "display_data"
    },
    {
     "data": {
      "image/png": "[encoded data removed]",
      "text/plain": [
       "<matplotlib.figure.Figure at 0x10d2c8f50>"
      ]
     },
     "metadata": {},
     "output_type": "display_data"
    },
    {
     "name": "stdout",
     "output_type": "stream",
     "text": [
      "Number of sequences processed : 44000 ----- Cost per sequence(bits) : 0.000\n"
     ]
    },
    {
     "data": {
      "text/plain": [
       "<matplotlib.figure.Figure at 0x11a1b3ed0>"
      ]
     },
     "metadata": {},
     "output_type": "display_data"
    },
    {
     "data": {
      "image/png": "[encoded data removed]",
      "text/plain": [
       "<matplotlib.figure.Figure at 0x10d2c8f50>"
      ]
     },
     "metadata": {},
     "output_type": "display_data"
    },
    {
     "name": "stdout",
     "output_type": "stream",
     "text": [
      "Number of sequences processed : 45000 ----- Cost per sequence(bits) : 0.000\n"
     ]
    },
    {
     "data": {
      "text/plain": [
       "<matplotlib.figure.Figure at 0x11a2ff150>"
      ]
     },
     "metadata": {},
     "output_type": "display_data"
    },
    {
     "data": {
      "image/png": "[encoded data removed]",
      "text/plain": [
       "<matplotlib.figure.Figure at 0x10c219350>"
      ]
     },
     "metadata": {},
     "output_type": "display_data"
    },
    {
     "name": "stdout",
     "output_type": "stream",
     "text": [
      "Number of sequences processed : 46000 ----- Cost per sequence(bits) : 0.000\n"
     ]
    },
    {
     "data": {
      "text/plain": [
       "<matplotlib.figure.Figure at 0x11a30c090>"
      ]
     },
     "metadata": {},
     "output_type": "display_data"
    },
    {
     "data": {
      "image/png": "[encoded data removed]",
      "text/plain": [
       "<matplotlib.figure.Figure at 0x10c219350>"
      ]
     },
     "metadata": {},
     "output_type": "display_data"
    },
    {
     "name": "stdout",
     "output_type": "stream",
     "text": [
      "Number of sequences processed : 47000 ----- Cost per sequence(bits) : 0.000\n"
     ]
    },
    {
     "data": {
      "text/plain": [
       "<matplotlib.figure.Figure at 0x11a137d90>"
      ]
     },
     "metadata": {},
     "output_type": "display_data"
    },
    {
     "data": {
      "image/png": "[encoded data removed]",
      "text/plain": [
       "<matplotlib.figure.Figure at 0x115ec1fd0>"
      ]
     },
     "metadata": {},
     "output_type": "display_data"
    },
    {
     "name": "stdout",
     "output_type": "stream",
     "text": [
      "Number of sequences processed : 48000 ----- Cost per sequence(bits) : 0.000\n"
     ]
    },
    {
     "data": {
      "text/plain": [
       "<matplotlib.figure.Figure at 0x11a3288d0>"
      ]
     },
     "metadata": {},
     "output_type": "display_data"
    },
    {
     "data": {
      "image/png": "[encoded data removed]",
      "text/plain": [
       "<matplotlib.figure.Figure at 0x10b75aa10>"
      ]
     },
     "metadata": {},
     "output_type": "display_data"
    },
    {
     "name": "stdout",
     "output_type": "stream",
     "text": [
      "Number of sequences processed : 49000 ----- Cost per sequence(bits) : 0.000\n"
     ]
    },
    {
     "data": {
      "text/plain": [
       "<matplotlib.figure.Figure at 0x11a0e63d0>"
      ]
     },
     "metadata": {},
     "output_type": "display_data"
    },
    {
     "data": {
      "image/png": "[encoded data removed]",
      "text/plain": [
       "<matplotlib.figure.Figure at 0x115dcabd0>"
      ]
     },
     "metadata": {},
     "output_type": "display_data"
    },
    {
     "data": {
      "text/plain": [
       "<matplotlib.figure.Figure at 0x11a08dc50>"
      ]
     },
     "metadata": {},
     "output_type": "display_data"
    }
   ],
   "source": [
    "ffnn_ntm_loss = train(ffnn_ntm, learning_rate=1e-4, n_updates=50000, print_every=1000, show_plot=True)"
   ]
  },
  {
   "cell_type": "code",
   "execution_count": 16,
   "metadata": {
    "collapsed": true
   },
   "outputs": [],
   "source": [
    "np.savetxt(\"ffnn_ntm_loss.txt\", np.array(ffnn_ntm_loss))\n",
    "torch.save(ffnn_ntm.state_dict(), \"ffnn_ntm.pt\") "
   ]
  },
  {
   "cell_type": "code",
   "execution_count": 18,
   "metadata": {},
   "outputs": [
    {
     "data": {
      "image/png": "[encoded data removed]",
      "text/plain": [
       "<matplotlib.figure.Figure at 0x11a2fdc50>"
      ]
     },
     "metadata": {},
     "output_type": "display_data"
    }
   ],
   "source": [
    "# Graphics\n",
    "pylab.plot(np.arange(0,50000,1000), ffnn_ntm_loss)\n",
    "pyplot.xlabel(\"Number of sequences processed\")\n",
    "pyplot.ylabel(\"Cost per sequence(bits)\")\n",
    "legend()"
   ]
  },
  {
   "cell_type": "code",
   "execution_count": 79,
   "metadata": {
    "colab": {
     "autoexec": {
      "startup": false,
      "wait_interval": 0
     },
     "base_uri": "https://localhost:8080/",
     "height": 34717,
     "output_extras": [
      {
       "item_id": 1
      },
      {
       "item_id": 2
      },
      {
       "item_id": 3
      },
      {
       "item_id": 4
      },
      {
       "item_id": 5
      },
      {
       "item_id": 6
      },
      {
       "item_id": 7
      },
      {
       "item_id": 8
      },
      {
       "item_id": 9
      },
      {
       "item_id": 10
      },
      {
       "item_id": 11
      },
      {
       "item_id": 12
      },
      {
       "item_id": 13
      },
      {
       "item_id": 14
      },
      {
       "item_id": 15
      },
      {
       "item_id": 16
      },
      {
       "item_id": 17
      },
      {
       "item_id": 18
      },
      {
       "item_id": 19
      },
      {
       "item_id": 20
      },
      {
       "item_id": 21
      },
      {
       "item_id": 22
      },
      {
       "item_id": 23
      },
      {
       "item_id": 24
      },
      {
       "item_id": 25
      },
      {
       "item_id": 26
      },
      {
       "item_id": 27
      },
      {
       "item_id": 28
      },
      {
       "item_id": 29
      },
      {
       "item_id": 30
      },
      {
       "item_id": 31
      },
      {
       "item_id": 32
      },
      {
       "item_id": 33
      },
      {
       "item_id": 34
      },
      {
       "item_id": 35
      },
      {
       "item_id": 36
      },
      {
       "item_id": 37
      },
      {
       "item_id": 38
      },
      {
       "item_id": 39
      },
      {
       "item_id": 40
      },
      {
       "item_id": 41
      },
      {
       "item_id": 42
      },
      {
       "item_id": 43
      },
      {
       "item_id": 44
      },
      {
       "item_id": 45
      },
      {
       "item_id": 46
      },
      {
       "item_id": 47
      },
      {
       "item_id": 48
      },
      {
       "item_id": 49
      },
      {
       "item_id": 50
      },
      {
       "item_id": 51
      },
      {
       "item_id": 52
      },
      {
       "item_id": 53
      },
      {
       "item_id": 54
      },
      {
       "item_id": 55
      },
      {
       "item_id": 56
      },
      {
       "item_id": 57
      },
      {
       "item_id": 58
      },
      {
       "item_id": 59
      },
      {
       "item_id": 60
      },
      {
       "item_id": 61
      },
      {
       "item_id": 62
      },
      {
       "item_id": 63
      },
      {
       "item_id": 64
      },
      {
       "item_id": 65
      },
      {
       "item_id": 66
      },
      {
       "item_id": 67
      },
      {
       "item_id": 68
      },
      {
       "item_id": 69
      },
      {
       "item_id": 70
      },
      {
       "item_id": 71
      },
      {
       "item_id": 72
      },
      {
       "item_id": 73
      },
      {
       "item_id": 74
      },
      {
       "item_id": 75
      },
      {
       "item_id": 76
      },
      {
       "item_id": 77
      },
      {
       "item_id": 78
      },
      {
       "item_id": 79
      },
      {
       "item_id": 80
      },
      {
       "item_id": 81
      },
      {
       "item_id": 82
      },
      {
       "item_id": 83
      },
      {
       "item_id": 84
      },
      {
       "item_id": 85
      },
      {
       "item_id": 86
      },
      {
       "item_id": 87
      },
      {
       "item_id": 88
      },
      {
       "item_id": 89
      },
      {
       "item_id": 90
      },
      {
       "item_id": 91
      },
      {
       "item_id": 92
      },
      {
       "item_id": 93
      },
      {
       "item_id": 94
      },
      {
       "item_id": 95
      },
      {
       "item_id": 96
      },
      {
       "item_id": 97
      },
      {
       "item_id": 98
      },
      {
       "item_id": 99
      },
      {
       "item_id": 100
      },
      {
       "item_id": 101
      },
      {
       "item_id": 102
      },
      {
       "item_id": 103
      },
      {
       "item_id": 104
      },
      {
       "item_id": 105
      },
      {
       "item_id": 106
      },
      {
       "item_id": 107
      },
      {
       "item_id": 108
      },
      {
       "item_id": 109
      },
      {
       "item_id": 110
      },
      {
       "item_id": 111
      },
      {
       "item_id": 112
      },
      {
       "item_id": 113
      },
      {
       "item_id": 114
      },
      {
       "item_id": 115
      },
      {
       "item_id": 116
      },
      {
       "item_id": 117
      },
      {
       "item_id": 118
      },
      {
       "item_id": 119
      },
      {
       "item_id": 120
      },
      {
       "item_id": 121
      },
      {
       "item_id": 122
      },
      {
       "item_id": 123
      },
      {
       "item_id": 124
      },
      {
       "item_id": 125
      },
      {
       "item_id": 126
      },
      {
       "item_id": 127
      },
      {
       "item_id": 128
      },
      {
       "item_id": 129
      },
      {
       "item_id": 130
      },
      {
       "item_id": 131
      },
      {
       "item_id": 132
      },
      {
       "item_id": 133
      },
      {
       "item_id": 134
      },
      {
       "item_id": 135
      },
      {
       "item_id": 136
      },
      {
       "item_id": 137
      },
      {
       "item_id": 138
      },
      {
       "item_id": 139
      },
      {
       "item_id": 140
      },
      {
       "item_id": 141
      },
      {
       "item_id": 142
      },
      {
       "item_id": 143
      },
      {
       "item_id": 144
      },
      {
       "item_id": 145
      },
      {
       "item_id": 146
      },
      {
       "item_id": 147
      },
      {
       "item_id": 148
      },
      {
       "item_id": 149
      },
      {
       "item_id": 150
      },
      {
       "item_id": 151
      },
      {
       "item_id": 152
      },
      {
       "item_id": 153
      },
      {
       "item_id": 154
      },
      {
       "item_id": 155
      },
      {
       "item_id": 156
      },
      {
       "item_id": 157
      },
      {
       "item_id": 158
      },
      {
       "item_id": 159
      },
      {
       "item_id": 160
      },
      {
       "item_id": 161
      },
      {
       "item_id": 162
      },
      {
       "item_id": 163
      },
      {
       "item_id": 164
      },
      {
       "item_id": 165
      },
      {
       "item_id": 166
      },
      {
       "item_id": 167
      },
      {
       "item_id": 168
      },
      {
       "item_id": 169
      },
      {
       "item_id": 170
      },
      {
       "item_id": 171
      },
      {
       "item_id": 172
      },
      {
       "item_id": 173
      },
      {
       "item_id": 174
      },
      {
       "item_id": 175
      },
      {
       "item_id": 176
      },
      {
       "item_id": 177
      },
      {
       "item_id": 178
      },
      {
       "item_id": 179
      },
      {
       "item_id": 180
      },
      {
       "item_id": 181
      },
      {
       "item_id": 182
      },
      {
       "item_id": 183
      },
      {
       "item_id": 184
      },
      {
       "item_id": 185
      },
      {
       "item_id": 186
      },
      {
       "item_id": 187
      },
      {
       "item_id": 188
      },
      {
       "item_id": 189
      },
      {
       "item_id": 190
      },
      {
       "item_id": 191
      },
      {
       "item_id": 192
      },
      {
       "item_id": 193
      },
      {
       "item_id": 194
      },
      {
       "item_id": 195
      },
      {
       "item_id": 196
      },
      {
       "item_id": 197
      },
      {
       "item_id": 198
      },
      {
       "item_id": 199
      },
      {
       "item_id": 200
      },
      {
       "item_id": 201
      },
      {
       "item_id": 202
      },
      {
       "item_id": 203
      },
      {
       "item_id": 204
      },
      {
       "item_id": 205
      },
      {
       "item_id": 206
      },
      {
       "item_id": 207
      },
      {
       "item_id": 208
      },
      {
       "item_id": 209
      },
      {
       "item_id": 210
      },
      {
       "item_id": 211
      },
      {
       "item_id": 212
      },
      {
       "item_id": 213
      },
      {
       "item_id": 214
      },
      {
       "item_id": 215
      },
      {
       "item_id": 216
      },
      {
       "item_id": 217
      },
      {
       "item_id": 218
      },
      {
       "item_id": 219
      },
      {
       "item_id": 220
      },
      {
       "item_id": 221
      },
      {
       "item_id": 222
      },
      {
       "item_id": 223
      },
      {
       "item_id": 224
      },
      {
       "item_id": 225
      },
      {
       "item_id": 226
      },
      {
       "item_id": 227
      },
      {
       "item_id": 228
      },
      {
       "item_id": 229
      },
      {
       "item_id": 230
      },
      {
       "item_id": 231
      },
      {
       "item_id": 232
      },
      {
       "item_id": 233
      },
      {
       "item_id": 234
      },
      {
       "item_id": 235
      },
      {
       "item_id": 236
      },
      {
       "item_id": 237
      },
      {
       "item_id": 238
      },
      {
       "item_id": 239
      },
      {
       "item_id": 240
      },
      {
       "item_id": 241
      },
      {
       "item_id": 242
      },
      {
       "item_id": 243
      },
      {
       "item_id": 244
      },
      {
       "item_id": 245
      },
      {
       "item_id": 246
      },
      {
       "item_id": 247
      },
      {
       "item_id": 248
      },
      {
       "item_id": 249
      },
      {
       "item_id": 250
      },
      {
       "item_id": 251
      },
      {
       "item_id": 252
      },
      {
       "item_id": 253
      },
      {
       "item_id": 254
      },
      {
       "item_id": 255
      },
      {
       "item_id": 256
      },
      {
       "item_id": 257
      },
      {
       "item_id": 258
      },
      {
       "item_id": 259
      },
      {
       "item_id": 260
      },
      {
       "item_id": 261
      },
      {
       "item_id": 262
      },
      {
       "item_id": 263
      },
      {
       "item_id": 264
      },
      {
       "item_id": 265
      },
      {
       "item_id": 266
      },
      {
       "item_id": 267
      },
      {
       "item_id": 268
      },
      {
       "item_id": 269
      },
      {
       "item_id": 270
      },
      {
       "item_id": 271
      },
      {
       "item_id": 272
      },
      {
       "item_id": 273
      },
      {
       "item_id": 274
      },
      {
       "item_id": 275
      },
      {
       "item_id": 276
      },
      {
       "item_id": 277
      },
      {
       "item_id": 278
      },
      {
       "item_id": 279
      },
      {
       "item_id": 280
      },
      {
       "item_id": 281
      },
      {
       "item_id": 282
      },
      {
       "item_id": 283
      },
      {
       "item_id": 284
      },
      {
       "item_id": 285
      },
      {
       "item_id": 286
      },
      {
       "item_id": 287
      },
      {
       "item_id": 288
      },
      {
       "item_id": 289
      },
      {
       "item_id": 290
      },
      {
       "item_id": 291
      },
      {
       "item_id": 292
      },
      {
       "item_id": 293
      },
      {
       "item_id": 294
      },
      {
       "item_id": 295
      },
      {
       "item_id": 296
      },
      {
       "item_id": 297
      },
      {
       "item_id": 298
      },
      {
       "item_id": 299
      },
      {
       "item_id": 300
      }
     ]
    },
    "colab_type": "code",
    "executionInfo": {
     "elapsed": 9681617,
     "status": "ok",
     "timestamp": 1522209772502,
     "user": {
      "displayName": "Patrice Béchard",
      "photoUrl": "//lh3.googleusercontent.com/-bL5zJjq50s8/AAAAAAAAAAI/AAAAAAAAJg4/tTYa0EKiWok/s50-c-k-no/photo.jpg",
      "userId": "107700311785587995610"
     },
     "user_tz": 240
    },
    "id": "meKrhwpzzGoR",
    "outputId": "1b8eeb50-6079-4244-a7fe-3b438a39bfad"
   },
   "outputs": [
    {
     "name": "stdout",
     "output_type": "stream",
     "text": [
      "Number of sequences processed : 0 ----- Cost per sequence(bits) : 0.699\n"
     ]
    },
    {
     "data": {
      "image/png": "[encoded data removed]",
      "text/plain": [
       "<matplotlib.figure.Figure at 0x13fc76210>"
      ]
     },
     "metadata": {},
     "output_type": "display_data"
    },
    {
     "name": "stdout",
     "output_type": "stream",
     "text": [
      "Number of sequences processed : 1000 ----- Cost per sequence(bits) : 0.317\n"
     ]
    },
    {
     "data": {
      "text/plain": [
       "<matplotlib.figure.Figure at 0x11ac02710>"
      ]
     },
     "metadata": {},
     "output_type": "display_data"
    },
    {
     "data": {
      "image/png": "[encoded data removed]",
      "text/plain": [
       "<matplotlib.figure.Figure at 0x13fcc5810>"
      ]
     },
     "metadata": {},
     "output_type": "display_data"
    },
    {
     "name": "stdout",
     "output_type": "stream",
     "text": [
      "Number of sequences processed : 2000 ----- Cost per sequence(bits) : 0.287\n"
     ]
    },
    {
     "data": {
      "text/plain": [
       "<matplotlib.figure.Figure at 0x11b04d750>"
      ]
     },
     "metadata": {},
     "output_type": "display_data"
    },
    {
     "data": {
      "image/png": "[encoded data removed]",
      "text/plain": [
       "<matplotlib.figure.Figure at 0x11b04d6d0>"
      ]
     },
     "metadata": {},
     "output_type": "display_data"
    },
    {
     "name": "stdout",
     "output_type": "stream",
     "text": [
      "Number of sequences processed : 3000 ----- Cost per sequence(bits) : 0.285\n"
     ]
    },
    {
     "data": {
      "text/plain": [
       "<matplotlib.figure.Figure at 0x11ac6ed50>"
      ]
     },
     "metadata": {},
     "output_type": "display_data"
    },
    {
     "data": {
      "image/png": "[encoded data removed]",
      "text/plain": [
       "<matplotlib.figure.Figure at 0x13f7ccc90>"
      ]
     },
     "metadata": {},
     "output_type": "display_data"
    },
    {
     "name": "stdout",
     "output_type": "stream",
     "text": [
      "Number of sequences processed : 4000 ----- Cost per sequence(bits) : 0.281\n"
     ]
    },
    {
     "data": {
      "text/plain": [
       "<matplotlib.figure.Figure at 0x12ef30e10>"
      ]
     },
     "metadata": {},
     "output_type": "display_data"
    },
    {
     "data": {
      "image/png": "[encoded data removed]",
      "text/plain": [
       "<matplotlib.figure.Figure at 0x12ef305d0>"
      ]
     },
     "metadata": {},
     "output_type": "display_data"
    },
    {
     "name": "stdout",
     "output_type": "stream",
     "text": [
      "Number of sequences processed : 5000 ----- Cost per sequence(bits) : 0.277\n"
     ]
    },
    {
     "data": {
      "text/plain": [
       "<matplotlib.figure.Figure at 0x11ad3ebd0>"
      ]
     },
     "metadata": {},
     "output_type": "display_data"
    },
    {
     "data": {
      "image/png": "[encoded data removed]",
      "text/plain": [
       "<matplotlib.figure.Figure at 0x11ad3e390>"
      ]
     },
     "metadata": {},
     "output_type": "display_data"
    },
    {
     "name": "stdout",
     "output_type": "stream",
     "text": [
      "Number of sequences processed : 6000 ----- Cost per sequence(bits) : 0.274\n"
     ]
    },
    {
     "data": {
      "text/plain": [
       "<matplotlib.figure.Figure at 0x13f563390>"
      ]
     },
     "metadata": {},
     "output_type": "display_data"
    },
    {
     "data": {
      "image/png": "[encoded data removed]",
      "text/plain": [
       "<matplotlib.figure.Figure at 0x12ee40190>"
      ]
     },
     "metadata": {},
     "output_type": "display_data"
    },
    {
     "name": "stdout",
     "output_type": "stream",
     "text": [
      "Number of sequences processed : 7000 ----- Cost per sequence(bits) : 0.267\n"
     ]
    },
    {
     "data": {
      "text/plain": [
       "<matplotlib.figure.Figure at 0x143163290>"
      ]
     },
     "metadata": {},
     "output_type": "display_data"
    },
    {
     "data": {
      "image/png": "[encoded data removed]",
      "text/plain": [
       "<matplotlib.figure.Figure at 0x143163510>"
      ]
     },
     "metadata": {},
     "output_type": "display_data"
    },
    {
     "name": "stdout",
     "output_type": "stream",
     "text": [
      "Number of sequences processed : 8000 ----- Cost per sequence(bits) : 0.263\n"
     ]
    },
    {
     "data": {
      "text/plain": [
       "<matplotlib.figure.Figure at 0x11b0b16d0>"
      ]
     },
     "metadata": {},
     "output_type": "display_data"
    },
    {
     "data": {
      "image/png": "[encoded data removed]",
      "text/plain": [
       "<matplotlib.figure.Figure at 0x1429b1650>"
      ]
     },
     "metadata": {},
     "output_type": "display_data"
    },
    {
     "name": "stdout",
     "output_type": "stream",
     "text": [
      "Number of sequences processed : 9000 ----- Cost per sequence(bits) : 0.252\n"
     ]
    },
    {
     "data": {
      "text/plain": [
       "<matplotlib.figure.Figure at 0x10c219350>"
      ]
     },
     "metadata": {},
     "output_type": "display_data"
    },
    {
     "data": {
      "image/png": "[encoded data removed]",
      "text/plain": [
       "<matplotlib.figure.Figure at 0x11ae0ccd0>"
      ]
     },
     "metadata": {},
     "output_type": "display_data"
    },
    {
     "name": "stdout",
     "output_type": "stream",
     "text": [
      "Number of sequences processed : 10000 ----- Cost per sequence(bits) : 0.239\n"
     ]
    },
    {
     "data": {
      "text/plain": [
       "<matplotlib.figure.Figure at 0x11a08afd0>"
      ]
     },
     "metadata": {},
     "output_type": "display_data"
    },
    {
     "data": {
      "image/png": "[encoded data removed]",
      "text/plain": [
       "<matplotlib.figure.Figure at 0x11a08a390>"
      ]
     },
     "metadata": {},
     "output_type": "display_data"
    },
    {
     "name": "stdout",
     "output_type": "stream",
     "text": [
      "Number of sequences processed : 11000 ----- Cost per sequence(bits) : 0.231\n"
     ]
    },
    {
     "data": {
      "text/plain": [
       "<matplotlib.figure.Figure at 0x13fcb0890>"
      ]
     },
     "metadata": {},
     "output_type": "display_data"
    },
    {
     "data": {
      "image/png": "[encoded data removed]",
      "text/plain": [
       "<matplotlib.figure.Figure at 0x13fcb0810>"
      ]
     },
     "metadata": {},
     "output_type": "display_data"
    },
    {
     "name": "stdout",
     "output_type": "stream",
     "text": [
      "Number of sequences processed : 12000 ----- Cost per sequence(bits) : 0.229\n"
     ]
    },
    {
     "data": {
      "text/plain": [
       "<matplotlib.figure.Figure at 0x11a19fe50>"
      ]
     },
     "metadata": {},
     "output_type": "display_data"
    },
    {
     "data": {
      "image/png": "[encoded data removed]",
      "text/plain": [
       "<matplotlib.figure.Figure at 0x11a2af4d0>"
      ]
     },
     "metadata": {},
     "output_type": "display_data"
    },
    {
     "name": "stdout",
     "output_type": "stream",
     "text": [
      "Number of sequences processed : 13000 ----- Cost per sequence(bits) : 0.216\n"
     ]
    },
    {
     "data": {
      "text/plain": [
       "<matplotlib.figure.Figure at 0x14136e550>"
      ]
     },
     "metadata": {},
     "output_type": "display_data"
    },
    {
     "data": {
      "image/png": "[encoded data removed]",
      "text/plain": [
       "<matplotlib.figure.Figure at 0x142feca90>"
      ]
     },
     "metadata": {},
     "output_type": "display_data"
    },
    {
     "name": "stdout",
     "output_type": "stream",
     "text": [
      "Number of sequences processed : 14000 ----- Cost per sequence(bits) : 0.216\n"
     ]
    },
    {
     "data": {
      "text/plain": [
       "<matplotlib.figure.Figure at 0x141b5f810>"
      ]
     },
     "metadata": {},
     "output_type": "display_data"
    },
    {
     "data": {
      "image/png": "[encoded data removed]",
      "text/plain": [
       "<matplotlib.figure.Figure at 0x141b5fc50>"
      ]
     },
     "metadata": {},
     "output_type": "display_data"
    },
    {
     "name": "stdout",
     "output_type": "stream",
     "text": [
      "Number of sequences processed : 15000 ----- Cost per sequence(bits) : 0.208\n"
     ]
    },
    {
     "data": {
      "text/plain": [
       "<matplotlib.figure.Figure at 0x11a8e1f10>"
      ]
     },
     "metadata": {},
     "output_type": "display_data"
    },
    {
     "data": {
      "image/png": "[encoded data removed]",
      "text/plain": [
       "<matplotlib.figure.Figure at 0x11a8e1490>"
      ]
     },
     "metadata": {},
     "output_type": "display_data"
    },
    {
     "name": "stdout",
     "output_type": "stream",
     "text": [
      "Number of sequences processed : 16000 ----- Cost per sequence(bits) : 0.199\n"
     ]
    },
    {
     "data": {
      "text/plain": [
       "<matplotlib.figure.Figure at 0x11a8457d0>"
      ]
     },
     "metadata": {},
     "output_type": "display_data"
    },
    {
     "data": {
      "image/png": "[encoded data removed]",
      "text/plain": [
       "<matplotlib.figure.Figure at 0x11a845850>"
      ]
     },
     "metadata": {},
     "output_type": "display_data"
    },
    {
     "name": "stdout",
     "output_type": "stream",
     "text": [
      "Number of sequences processed : 17000 ----- Cost per sequence(bits) : 0.195\n"
     ]
    },
    {
     "data": {
      "text/plain": [
       "<matplotlib.figure.Figure at 0x11ab6c6d0>"
      ]
     },
     "metadata": {},
     "output_type": "display_data"
    },
    {
     "data": {
      "image/png": "[encoded data removed]",
      "text/plain": [
       "<matplotlib.figure.Figure at 0x143219110>"
      ]
     },
     "metadata": {},
     "output_type": "display_data"
    },
    {
     "name": "stdout",
     "output_type": "stream",
     "text": [
      "Number of sequences processed : 18000 ----- Cost per sequence(bits) : 0.191\n"
     ]
    },
    {
     "data": {
      "text/plain": [
       "<matplotlib.figure.Figure at 0x143163790>"
      ]
     },
     "metadata": {},
     "output_type": "display_data"
    },
    {
     "data": {
      "image/png": "[encoded data removed]",
      "text/plain": [
       "<matplotlib.figure.Figure at 0x11abe9b10>"
      ]
     },
     "metadata": {},
     "output_type": "display_data"
    },
    {
     "name": "stdout",
     "output_type": "stream",
     "text": [
      "Number of sequences processed : 19000 ----- Cost per sequence(bits) : 0.185\n"
     ]
    },
    {
     "data": {
      "text/plain": [
       "<matplotlib.figure.Figure at 0x140f6a850>"
      ]
     },
     "metadata": {},
     "output_type": "display_data"
    },
    {
     "data": {
      "image/png": "[encoded data removed]",
      "text/plain": [
       "<matplotlib.figure.Figure at 0x140f6add0>"
      ]
     },
     "metadata": {},
     "output_type": "display_data"
    },
    {
     "name": "stdout",
     "output_type": "stream",
     "text": [
      "Number of sequences processed : 20000 ----- Cost per sequence(bits) : 0.179\n"
     ]
    },
    {
     "data": {
      "text/plain": [
       "<matplotlib.figure.Figure at 0x142fec610>"
      ]
     },
     "metadata": {},
     "output_type": "display_data"
    },
    {
     "data": {
      "image/png": "[encoded data removed]",
      "text/plain": [
       "<matplotlib.figure.Figure at 0x142fec590>"
      ]
     },
     "metadata": {},
     "output_type": "display_data"
    },
    {
     "name": "stdout",
     "output_type": "stream",
     "text": [
      "Number of sequences processed : 21000 ----- Cost per sequence(bits) : 0.169\n"
     ]
    },
    {
     "data": {
      "text/plain": [
       "<matplotlib.figure.Figure at 0x13fcd3fd0>"
      ]
     },
     "metadata": {},
     "output_type": "display_data"
    },
    {
     "data": {
      "image/png": "[encoded data removed]",
      "text/plain": [
       "<matplotlib.figure.Figure at 0x13fcd3b10>"
      ]
     },
     "metadata": {},
     "output_type": "display_data"
    },
    {
     "name": "stdout",
     "output_type": "stream",
     "text": [
      "Number of sequences processed : 22000 ----- Cost per sequence(bits) : 0.174\n"
     ]
    },
    {
     "data": {
      "text/plain": [
       "<matplotlib.figure.Figure at 0x11ae21890>"
      ]
     },
     "metadata": {},
     "output_type": "display_data"
    },
    {
     "data": {
      "image/png": "[encoded data removed]",
      "text/plain": [
       "<matplotlib.figure.Figure at 0x11ae21110>"
      ]
     },
     "metadata": {},
     "output_type": "display_data"
    },
    {
     "name": "stdout",
     "output_type": "stream",
     "text": [
      "Number of sequences processed : 23000 ----- Cost per sequence(bits) : 0.169\n"
     ]
    },
    {
     "data": {
      "text/plain": [
       "<matplotlib.figure.Figure at 0x11ab74d10>"
      ]
     },
     "metadata": {},
     "output_type": "display_data"
    },
    {
     "data": {
      "image/png": "[encoded data removed]",
      "text/plain": [
       "<matplotlib.figure.Figure at 0x11a340c10>"
      ]
     },
     "metadata": {},
     "output_type": "display_data"
    },
    {
     "name": "stdout",
     "output_type": "stream",
     "text": [
      "Number of sequences processed : 24000 ----- Cost per sequence(bits) : 0.167\n"
     ]
    },
    {
     "data": {
      "text/plain": [
       "<matplotlib.figure.Figure at 0x141521890>"
      ]
     },
     "metadata": {},
     "output_type": "display_data"
    },
    {
     "data": {
      "image/png": "[encoded data removed]",
      "text/plain": [
       "<matplotlib.figure.Figure at 0x1169a3c10>"
      ]
     },
     "metadata": {},
     "output_type": "display_data"
    },
    {
     "name": "stdout",
     "output_type": "stream",
     "text": [
      "Number of sequences processed : 25000 ----- Cost per sequence(bits) : 0.161\n"
     ]
    },
    {
     "data": {
      "text/plain": [
       "<matplotlib.figure.Figure at 0x1414568d0>"
      ]
     },
     "metadata": {},
     "output_type": "display_data"
    },
    {
     "data": {
      "image/png": "[encoded data removed]",
      "text/plain": [
       "<matplotlib.figure.Figure at 0x141456690>"
      ]
     },
     "metadata": {},
     "output_type": "display_data"
    },
    {
     "name": "stdout",
     "output_type": "stream",
     "text": [
      "Number of sequences processed : 26000 ----- Cost per sequence(bits) : 0.156\n"
     ]
    },
    {
     "data": {
      "text/plain": [
       "<matplotlib.figure.Figure at 0x13f8edf10>"
      ]
     },
     "metadata": {},
     "output_type": "display_data"
    },
    {
     "data": {
      "image/png": "[encoded data removed]",
      "text/plain": [
       "<matplotlib.figure.Figure at 0x13f8edb90>"
      ]
     },
     "metadata": {},
     "output_type": "display_data"
    },
    {
     "name": "stdout",
     "output_type": "stream",
     "text": [
      "Number of sequences processed : 27000 ----- Cost per sequence(bits) : 0.160\n"
     ]
    },
    {
     "data": {
      "text/plain": [
       "<matplotlib.figure.Figure at 0x13fcd6f90>"
      ]
     },
     "metadata": {},
     "output_type": "display_data"
    },
    {
     "data": {
      "image/png": "[encoded data removed]",
      "text/plain": [
       "<matplotlib.figure.Figure at 0x13fcd6a50>"
      ]
     },
     "metadata": {},
     "output_type": "display_data"
    },
    {
     "name": "stdout",
     "output_type": "stream",
     "text": [
      "Number of sequences processed : 28000 ----- Cost per sequence(bits) : 0.153\n"
     ]
    },
    {
     "data": {
      "text/plain": [
       "<matplotlib.figure.Figure at 0x13fc6e510>"
      ]
     },
     "metadata": {},
     "output_type": "display_data"
    },
    {
     "data": {
      "image/png": "[encoded data removed]",
      "text/plain": [
       "<matplotlib.figure.Figure at 0x1431ca510>"
      ]
     },
     "metadata": {},
     "output_type": "display_data"
    },
    {
     "name": "stdout",
     "output_type": "stream",
     "text": [
      "Number of sequences processed : 29000 ----- Cost per sequence(bits) : 0.152\n"
     ]
    },
    {
     "data": {
      "text/plain": [
       "<matplotlib.figure.Figure at 0x13f8c9710>"
      ]
     },
     "metadata": {},
     "output_type": "display_data"
    },
    {
     "data": {
      "image/png": "[encoded data removed]",
      "text/plain": [
       "<matplotlib.figure.Figure at 0x13f8c9b50>"
      ]
     },
     "metadata": {},
     "output_type": "display_data"
    },
    {
     "name": "stdout",
     "output_type": "stream",
     "text": [
      "Number of sequences processed : 30000 ----- Cost per sequence(bits) : 0.147\n"
     ]
    },
    {
     "data": {
      "text/plain": [
       "<matplotlib.figure.Figure at 0x14241f1d0>"
      ]
     },
     "metadata": {},
     "output_type": "display_data"
    },
    {
     "data": {
      "image/png": "[encoded data removed]",
      "text/plain": [
       "<matplotlib.figure.Figure at 0x14241f290>"
      ]
     },
     "metadata": {},
     "output_type": "display_data"
    },
    {
     "name": "stdout",
     "output_type": "stream",
     "text": [
      "Number of sequences processed : 31000 ----- Cost per sequence(bits) : 0.145\n"
     ]
    },
    {
     "data": {
      "text/plain": [
       "<matplotlib.figure.Figure at 0x116aa2d10>"
      ]
     },
     "metadata": {},
     "output_type": "display_data"
    },
    {
     "data": {
      "image/png": "[encoded data removed]",
      "text/plain": [
       "<matplotlib.figure.Figure at 0x116aa2550>"
      ]
     },
     "metadata": {},
     "output_type": "display_data"
    },
    {
     "name": "stdout",
     "output_type": "stream",
     "text": [
      "Number of sequences processed : 32000 ----- Cost per sequence(bits) : 0.145\n"
     ]
    },
    {
     "data": {
      "text/plain": [
       "<matplotlib.figure.Figure at 0x142d50fd0>"
      ]
     },
     "metadata": {},
     "output_type": "display_data"
    },
    {
     "data": {
      "image/png": "[encoded data removed]",
      "text/plain": [
       "<matplotlib.figure.Figure at 0x142d50390>"
      ]
     },
     "metadata": {},
     "output_type": "display_data"
    },
    {
     "name": "stdout",
     "output_type": "stream",
     "text": [
      "Number of sequences processed : 33000 ----- Cost per sequence(bits) : 0.144\n"
     ]
    },
    {
     "data": {
      "text/plain": [
       "<matplotlib.figure.Figure at 0x11a32d890>"
      ]
     },
     "metadata": {},
     "output_type": "display_data"
    },
    {
     "data": {
      "image/png": "[encoded data removed]",
      "text/plain": [
       "<matplotlib.figure.Figure at 0x11a32d110>"
      ]
     },
     "metadata": {},
     "output_type": "display_data"
    },
    {
     "name": "stdout",
     "output_type": "stream",
     "text": [
      "Number of sequences processed : 34000 ----- Cost per sequence(bits) : 0.142\n"
     ]
    },
    {
     "data": {
      "text/plain": [
       "<matplotlib.figure.Figure at 0x1404f9f90>"
      ]
     },
     "metadata": {},
     "output_type": "display_data"
    },
    {
     "data": {
      "image/png": "[encoded data removed]",
      "text/plain": [
       "<matplotlib.figure.Figure at 0x11ae29990>"
      ]
     },
     "metadata": {},
     "output_type": "display_data"
    },
    {
     "name": "stdout",
     "output_type": "stream",
     "text": [
      "Number of sequences processed : 35000 ----- Cost per sequence(bits) : 0.142\n"
     ]
    },
    {
     "data": {
      "text/plain": [
       "<matplotlib.figure.Figure at 0x11af839d0>"
      ]
     },
     "metadata": {},
     "output_type": "display_data"
    },
    {
     "data": {
      "image/png": "[encoded data removed]",
      "text/plain": [
       "<matplotlib.figure.Figure at 0x11af833d0>"
      ]
     },
     "metadata": {},
     "output_type": "display_data"
    },
    {
     "name": "stdout",
     "output_type": "stream",
     "text": [
      "Number of sequences processed : 36000 ----- Cost per sequence(bits) : 0.141\n"
     ]
    },
    {
     "data": {
      "text/plain": [
       "<matplotlib.figure.Figure at 0x140fbb910>"
      ]
     },
     "metadata": {},
     "output_type": "display_data"
    },
    {
     "data": {
      "image/png": "[encoded data removed]",
      "text/plain": [
       "<matplotlib.figure.Figure at 0x142f7d490>"
      ]
     },
     "metadata": {},
     "output_type": "display_data"
    },
    {
     "name": "stdout",
     "output_type": "stream",
     "text": [
      "Number of sequences processed : 37000 ----- Cost per sequence(bits) : 0.139\n"
     ]
    },
    {
     "data": {
      "text/plain": [
       "<matplotlib.figure.Figure at 0x11a8cdf10>"
      ]
     },
     "metadata": {},
     "output_type": "display_data"
    },
    {
     "data": {
      "image/png": "[encoded data removed]",
      "text/plain": [
       "<matplotlib.figure.Figure at 0x11a8cd490>"
      ]
     },
     "metadata": {},
     "output_type": "display_data"
    },
    {
     "name": "stdout",
     "output_type": "stream",
     "text": [
      "Number of sequences processed : 38000 ----- Cost per sequence(bits) : 0.141\n"
     ]
    },
    {
     "data": {
      "text/plain": [
       "<matplotlib.figure.Figure at 0x11a8317d0>"
      ]
     },
     "metadata": {},
     "output_type": "display_data"
    },
    {
     "data": {
      "image/png": "[encoded data removed]",
      "text/plain": [
       "<matplotlib.figure.Figure at 0x11ac028d0>"
      ]
     },
     "metadata": {},
     "output_type": "display_data"
    },
    {
     "name": "stdout",
     "output_type": "stream",
     "text": [
      "Number of sequences processed : 39000 ----- Cost per sequence(bits) : 0.139\n"
     ]
    },
    {
     "data": {
      "text/plain": [
       "<matplotlib.figure.Figure at 0x11ad5e790>"
      ]
     },
     "metadata": {},
     "output_type": "display_data"
    },
    {
     "data": {
      "image/png": "[encoded data removed]",
      "text/plain": [
       "<matplotlib.figure.Figure at 0x1429f17d0>"
      ]
     },
     "metadata": {},
     "output_type": "display_data"
    },
    {
     "name": "stdout",
     "output_type": "stream",
     "text": [
      "Number of sequences processed : 40000 ----- Cost per sequence(bits) : 0.136\n"
     ]
    },
    {
     "data": {
      "text/plain": [
       "<matplotlib.figure.Figure at 0x116ad8650>"
      ]
     },
     "metadata": {},
     "output_type": "display_data"
    },
    {
     "data": {
      "image/png": "[encoded data removed]",
      "text/plain": [
       "<matplotlib.figure.Figure at 0x116ad8850>"
      ]
     },
     "metadata": {},
     "output_type": "display_data"
    },
    {
     "name": "stdout",
     "output_type": "stream",
     "text": [
      "Number of sequences processed : 41000 ----- Cost per sequence(bits) : 0.141\n"
     ]
    },
    {
     "data": {
      "text/plain": [
       "<matplotlib.figure.Figure at 0x141b62d90>"
      ]
     },
     "metadata": {},
     "output_type": "display_data"
    },
    {
     "data": {
      "image/png": "[encoded data removed]",
      "text/plain": [
       "<matplotlib.figure.Figure at 0x141b62f10>"
      ]
     },
     "metadata": {},
     "output_type": "display_data"
    },
    {
     "name": "stdout",
     "output_type": "stream",
     "text": [
      "Number of sequences processed : 42000 ----- Cost per sequence(bits) : 0.136\n"
     ]
    },
    {
     "data": {
      "text/plain": [
       "<matplotlib.figure.Figure at 0x142ea62d0>"
      ]
     },
     "metadata": {},
     "output_type": "display_data"
    },
    {
     "data": {
      "image/png": "[encoded data removed]",
      "text/plain": [
       "<matplotlib.figure.Figure at 0x142ea6390>"
      ]
     },
     "metadata": {},
     "output_type": "display_data"
    },
    {
     "name": "stdout",
     "output_type": "stream",
     "text": [
      "Number of sequences processed : 43000 ----- Cost per sequence(bits) : 0.135\n"
     ]
    },
    {
     "data": {
      "text/plain": [
       "<matplotlib.figure.Figure at 0x11a055f10>"
      ]
     },
     "metadata": {},
     "output_type": "display_data"
    },
    {
     "data": {
      "image/png": "[encoded data removed]",
      "text/plain": [
       "<matplotlib.figure.Figure at 0x11a055490>"
      ]
     },
     "metadata": {},
     "output_type": "display_data"
    },
    {
     "name": "stdout",
     "output_type": "stream",
     "text": [
      "Number of sequences processed : 44000 ----- Cost per sequence(bits) : 0.137\n"
     ]
    },
    {
     "data": {
      "text/plain": [
       "<matplotlib.figure.Figure at 0x11a1757d0>"
      ]
     },
     "metadata": {},
     "output_type": "display_data"
    },
    {
     "data": {
      "image/png": "[encoded data removed]",
      "text/plain": [
       "<matplotlib.figure.Figure at 0x1423faf90>"
      ]
     },
     "metadata": {},
     "output_type": "display_data"
    },
    {
     "name": "stdout",
     "output_type": "stream",
     "text": [
      "Number of sequences processed : 45000 ----- Cost per sequence(bits) : 0.134\n"
     ]
    },
    {
     "data": {
      "text/plain": [
       "<matplotlib.figure.Figure at 0x142401fd0>"
      ]
     },
     "metadata": {},
     "output_type": "display_data"
    },
    {
     "data": {
      "image/png": "[encoded data removed]",
      "text/plain": [
       "<matplotlib.figure.Figure at 0x11a3fca90>"
      ]
     },
     "metadata": {},
     "output_type": "display_data"
    },
    {
     "name": "stdout",
     "output_type": "stream",
     "text": [
      "Number of sequences processed : 46000 ----- Cost per sequence(bits) : 0.131\n"
     ]
    },
    {
     "data": {
      "text/plain": [
       "<matplotlib.figure.Figure at 0x13ff4cbd0>"
      ]
     },
     "metadata": {},
     "output_type": "display_data"
    },
    {
     "data": {
      "image/png": "[encoded data removed]",
      "text/plain": [
       "<matplotlib.figure.Figure at 0x13ff4ca90>"
      ]
     },
     "metadata": {},
     "output_type": "display_data"
    },
    {
     "name": "stdout",
     "output_type": "stream",
     "text": [
      "Number of sequences processed : 47000 ----- Cost per sequence(bits) : 0.132\n"
     ]
    },
    {
     "data": {
      "text/plain": [
       "<matplotlib.figure.Figure at 0x13fc9de50>"
      ]
     },
     "metadata": {},
     "output_type": "display_data"
    },
    {
     "data": {
      "image/png": "[encoded data removed]",
      "text/plain": [
       "<matplotlib.figure.Figure at 0x13fc9dc90>"
      ]
     },
     "metadata": {},
     "output_type": "display_data"
    },
    {
     "name": "stdout",
     "output_type": "stream",
     "text": [
      "Number of sequences processed : 48000 ----- Cost per sequence(bits) : 0.127\n"
     ]
    },
    {
     "data": {
      "text/plain": [
       "<matplotlib.figure.Figure at 0x11a08af10>"
      ]
     },
     "metadata": {},
     "output_type": "display_data"
    },
    {
     "data": {
      "image/png": "[encoded data removed]",
      "text/plain": [
       "<matplotlib.figure.Figure at 0x11a08ab10>"
      ]
     },
     "metadata": {},
     "output_type": "display_data"
    },
    {
     "name": "stdout",
     "output_type": "stream",
     "text": [
      "Number of sequences processed : 49000 ----- Cost per sequence(bits) : 0.132\n"
     ]
    },
    {
     "data": {
      "text/plain": [
       "<matplotlib.figure.Figure at 0x13fca3710>"
      ]
     },
     "metadata": {},
     "output_type": "display_data"
    },
    {
     "data": {
      "image/png": "[encoded data removed]",
      "text/plain": [
       "<matplotlib.figure.Figure at 0x13fca3690>"
      ]
     },
     "metadata": {},
     "output_type": "display_data"
    },
    {
     "data": {
      "text/plain": [
       "<matplotlib.figure.Figure at 0x13fcbd510>"
      ]
     },
     "metadata": {},
     "output_type": "display_data"
    }
   ],
   "source": [
    "baseline_loss2 = train(baseline2, n_updates=50000, learning_rate=1e-4, print_every=1000, show_plot=True)"
   ]
  },
  {
   "cell_type": "code",
   "execution_count": 30,
   "metadata": {},
   "outputs": [
    {
     "data": {
      "image/png": "[encoded data removed]",
      "text/plain": [
       "<matplotlib.figure.Figure at 0x11af83150>"
      ]
     },
     "metadata": {},
     "output_type": "display_data"
    }
   ],
   "source": [
    "# Graphics\n",
    "pylab.plot(np.arange(0,300000,1000), baseline_loss2)\n",
    "pyplot.xlabel(\"Number of sequences processed\")\n",
    "pyplot.ylabel(\"Cost per sequence(bits)\")\n",
    "legend()"
   ]
  },
  {
   "cell_type": "markdown",
   "metadata": {},
   "source": [
    "##### All the models together"
   ]
  },
  {
   "cell_type": "code",
   "execution_count": 75,
   "metadata": {},
   "outputs": [],
   "source": [
    "# Load saved models\n",
    "lstm_ntm = NTM('lstm', batch_size=1)\n",
    "lstm_ntm.load_state_dict(torch.load(\"lstm_ntm_BCEWLL.pt\"))\n",
    "\n",
    "#ffnn_ntm = NTM('ffnn', batch_size=1)\n",
    "#ffnn_ntm.load_state_dict(torch.load(\"ffnn_ntm.pt\"))\n",
    "\n",
    "baseline = Vanilla_LSTM(batch_size=1)\n",
    "baseline.load_state_dict(torch.load(\"baseline2.pt\"))\n",
    "\n",
    "# Load training losses\n",
    "lstm_ntm_loss = np.loadtxt(\"lstm_ntm_BCEWLL_loss.txt\")\n",
    "#ffnn_ntm_loss = np.loadtxt(\"ffnn_ntm_loss.txt\")\n",
    "baseline_loss = np.loadtxt(\"baseline_loss2.txt\")"
   ]
  },
  {
   "cell_type": "code",
   "execution_count": 36,
   "metadata": {
    "colab": {
     "autoexec": {
      "startup": false,
      "wait_interval": 0
     }
    },
    "colab_type": "code",
    "collapsed": true,
    "id": "tTraEmevgSVK"
   },
   "outputs": [],
   "source": [
    "def plot_training_curves(rng, lstm_ntm_loss, ffnn_ntm_loss, lstm_loss):\n",
    "\n",
    "    plt.figure()\n",
    "    plt.plot(rng, lstm_loss, 'b', label=\"LSTM\")\n",
    "    plt.plot(rng, lstm_ntm_loss, 'g', label=\"NTM with LSTM Controller\")\n",
    "    plt.plot(rng, ffnn_ntm_loss, 'r', label=\"NTM with FeedForward Controller\")\n",
    "    \n",
    "    plt.xlabel(\"Number of sequences (thousands)\")\n",
    "    plt.ylabel(\"Cost per sequence (bits)\")\n",
    "  #  plt.axis([0, len(rng)*10, 0, 0.05])\n",
    "    plt.legend(fancybox=True)\n",
    "    plt.show()"
   ]
  },
  {
   "cell_type": "code",
   "execution_count": 37,
   "metadata": {},
   "outputs": [
    {
     "data": {
      "image/png": "[encoded data removed]",
      "text/plain": [
       "<matplotlib.figure.Figure at 0x11ac07c50>"
      ]
     },
     "metadata": {},
     "output_type": "display_data"
    }
   ],
   "source": [
    "plot_training_curves(np.arange(0,50000,1000), lstm_ntm_loss, ffnn_ntm_loss, baseline_loss[:50])"
   ]
  },
  {
   "cell_type": "markdown",
   "metadata": {
    "colab_type": "text",
    "id": "BkrSVv35gSVO"
   },
   "source": [
    "#### (c) Generalisation to longer sequences"
   ]
  },
  {
   "cell_type": "markdown",
   "metadata": {
    "colab_type": "text",
    "id": "Z-Jq5zTkgSVQ"
   },
   "source": [
    "One of the benefits of the NTM over a vanilla LSTM is the ability to learn a simple algorithm that generalise to larger sequences.\n",
    "\n",
    "Test your models on sequences of $T \\in \\{ 10, 20, 30, 40, \\dots, 100\\}$ with 20 different inputs for each $T$. Plot your average loss vs. $T$. State what you expect of the experiment and why, then comment on the results."
   ]
  },
  {
   "cell_type": "code",
   "execution_count": 176,
   "metadata": {
    "colab": {
     "autoexec": {
      "startup": false,
      "wait_interval": 0
     },
     "output_extras": [
      {}
     ]
    },
    "colab_type": "code",
    "id": "9ICYF9hTgSVR",
    "outputId": "c5a67f89-5406-4ef3-ff48-4ecdf2a45353"
   },
   "outputs": [],
   "source": [
    "def test(model, seq_length=range(10, 101, 10), n_inputs=20):\n",
    "    \n",
    "    avg_loss_array = []\n",
    "    avg_loss_pushed_array = []\n",
    "  #  criterion = nn.BCEWithLogitsLoss() \n",
    "\n",
    "    for length in seq_length:\n",
    "        \n",
    "        length_loss = 0\n",
    "        length_loss_pushed = 0\n",
    "        \n",
    "        for i in range(n_inputs):\n",
    "            \n",
    "            inputs, targets = generate_input_example(sequence_length=length)\n",
    "            inputs, targets = Variable(inputs), Variable(targets)\n",
    "            if use_cuda:\n",
    "                inputs, targets = inputs.cuda(), targets.cuda()\n",
    "            \n",
    "            outputs = model(inputs)\n",
    "        # Take Sigmoid because model outputs without (BCEWLL)\n",
    "            outputs_sig = F.sigmoid(outputs)   \n",
    "            \n",
    "        # Error without pushing the values\n",
    "            err = torch.mean( torch.abs(outputs_sig[-length:] - targets[-length:]) )\n",
    "            length_loss += err\n",
    "     #       print(\"err no push\", err)   \n",
    "            \n",
    "#        # Error pushing the output values to 0 or 1\n",
    "#            outputs_pushed = torch.round(outputs_sig) \n",
    "#            err_pushed = torch.mean( torch.abs(outputs_pushed - targets) )\n",
    "#            length_loss_pushed += err_pushed\n",
    "#            print(\"err pushED\", err_pushed)                        \n",
    "            \n",
    "       #print outputs pushed to 0 or 1     \n",
    "           # outputs_pushed = torch.round(outputs_sig)\n",
    "           # show_last_example(inputs, outputs_pushed, targets)\n",
    "            \n",
    "        length_loss /= n_inputs\n",
    "   #     length_loss_pushed /= n_inputs \n",
    "        \n",
    "        avg_loss_array.append(length_loss.data)\n",
    "#        avg_loss_pushed_array.append(length_loss_pushed.data)\n",
    "            \n",
    "    return avg_loss_array#, avg_loss_pushed_array"
   ]
  },
  {
   "cell_type": "code",
   "execution_count": 60,
   "metadata": {
    "collapsed": true
   },
   "outputs": [],
   "source": [
    "lstm_ntm_NOBCEWLL = NTM('lstm', batch_size=1)\n",
    "lstm_ntm_NOBCEWLL.load_state_dict(torch.load(\"lstm_ntm.pt\"))"
   ]
  },
  {
   "cell_type": "markdown",
   "metadata": {},
   "source": [
    "###### Evaluate models"
   ]
  },
  {
   "cell_type": "code",
   "execution_count": 181,
   "metadata": {
    "collapsed": true
   },
   "outputs": [],
   "source": [
    "lstm_ntm_NOBCEWLL_test_avg_loss = test(lstm_ntm_NOBCEWLL)"
   ]
  },
  {
   "cell_type": "code",
   "execution_count": 180,
   "metadata": {},
   "outputs": [],
   "source": [
    "ffnn_ntm_test_avg_loss = test(ffnn_ntm)"
   ]
  },
  {
   "cell_type": "code",
   "execution_count": 177,
   "metadata": {},
   "outputs": [],
   "source": [
    "baseline_test_avg_loss = test(baseline2)"
   ]
  },
  {
   "cell_type": "code",
   "execution_count": 135,
   "metadata": {
    "colab": {
     "autoexec": {
      "startup": false,
      "wait_interval": 0
     }
    },
    "colab_type": "code",
    "collapsed": true,
    "id": "YHyoNGRggSVW"
   },
   "outputs": [],
   "source": [
    "def plot_avg_loss(rng, lstm_ntm_loss, ffnn_ntm_loss, lstm_loss):\n",
    "    \n",
    "    plt.figure()\n",
    "    plt.plot(rng, lstm_ntm_loss, label='LSTM-NTM')\n",
    "    plt.plot(rng, ffnn_ntm_loss, label='FFNN-NTM')\n",
    "    plt.plot(rng, lstm_loss, label='LSTM')\n",
    "    \n",
    "    plt.xlabel(\"Length of sequence\")\n",
    "    plt.ylabel(\"Average loss\")\n",
    "    plt.legend(fancybox=True)\n",
    "    plt.show()"
   ]
  },
  {
   "cell_type": "code",
   "execution_count": 182,
   "metadata": {},
   "outputs": [
    {
     "data": {
      "image/png": "[encoded data removed]",
      "text/plain": [
       "<matplotlib.figure.Figure at 0x11a0efd90>"
      ]
     },
     "metadata": {},
     "output_type": "display_data"
    }
   ],
   "source": [
    "plot_avg_loss(np.arange(10, 101, 10), lstm_ntm_NOBCEWLL_test_avg_loss, ffnn_ntm_test_avg_loss, baseline_test_avg_loss)"
   ]
  },
  {
   "cell_type": "markdown",
   "metadata": {
    "colab_type": "text",
    "id": "JvpA3WT6gSVX"
   },
   "source": [
    "#### (d) Visualising the read and write heads/attention"
   ]
  },
  {
   "cell_type": "markdown",
   "metadata": {
    "colab_type": "text",
    "id": "01d2L-qQgSVY"
   },
   "source": [
    "We can visualise the read and write heads to get an idea of what algorithm is learned for the task.\n",
    "\n",
    "Plot the write and read head/attention for an input sequence of $T=10$. State what you expected to see and why, then comment on the results."
   ]
  },
  {
   "cell_type": "code",
   "execution_count": 187,
   "metadata": {
    "colab": {
     "autoexec": {
      "startup": false,
      "wait_interval": 0
     }
    },
    "colab_type": "code",
    "id": "ynEar6T7gSVY"
   },
   "outputs": [],
   "source": [
    "from matplotlib import gridspec\n",
    "def visualise_read_write(model):\n",
    "    plt.clf()\n",
    "  \n",
    "    inputs, targets = generate_input_example(sequence_length=20, batch_size=1)\n",
    "    inputs, targets = Variable(inputs), Variable(targets)\n",
    "    if use_cuda:\n",
    "        inputs, targets = inputs.cuda(), targets.cuda()\n",
    "\n",
    "    outputs = model(inputs)\n",
    "# NV - Adjust because BCEWLL\n",
    "    outputs = F.sigmoid(outputs)\n",
    "    \n",
    "    inputs = inputs.data.squeeze().numpy().T\n",
    "    outputs = outputs.data.squeeze().numpy().T\n",
    "    read_vecs = model.kept_read_vectors.squeeze().numpy().T\n",
    "    add_vecs = model.kept_write_vectors.squeeze().numpy().T\n",
    "    read_weights = model.kept_read_weights.squeeze().numpy().T\n",
    "    write_weights = model.kept_write_weights.squeeze().numpy().T\n",
    "    \n",
    "    n_shown_mem_loc = 40\n",
    "\n",
    "    fig = plt.figure(figsize=(10, 8.8)) \n",
    "    gs = gridspec.GridSpec(3, 2, height_ratios=[9, 20, n_shown_mem_loc]) \n",
    "    gs.update(wspace=0.02, hspace=0.02) # set the spacing between axes. \n",
    "    ax0 = plt.subplot(gs[0, 0])\n",
    "    ax0.matshow(inputs)\n",
    "    ax0.set_title('Inputs', size=14)\n",
    "    ax0.axis('off')\n",
    "    ax1 = plt.subplot(gs[0, 1])\n",
    "    ax1.matshow(outputs)\n",
    "    ax1.set_title('Outputs', size=14)\n",
    "    ax1.axis('off')\n",
    "    ax2 = plt.subplot(gs[1, 0])\n",
    "    ax2.matshow(add_vecs)\n",
    "    ax2.text(-3, 8, 'Adds', rotation=90, size=14)\n",
    "    ax2.axis('off')\n",
    "    ax3 = plt.subplot(gs[1, 1])\n",
    "    ax3.matshow(read_vecs)\n",
    "    ax3.text(40.75, 8, 'Reads', rotation=270, size=14)\n",
    "    ax3.axis('off')\n",
    "    ax4 = plt.subplot(gs[2, 0])\n",
    "    ax4.matshow(write_weights[:n_shown_mem_loc])\n",
    "    ax4.text(-3, 28, r'Location $\\longrightarrow$', rotation=90, size=14)\n",
    "    ax4.text(0, 42, r'Time $\\longrightarrow$', size=14)\n",
    "    ax4.set_title('Write Weightings', y=-0.2)\n",
    "    ax4.axis('off')\n",
    "    ax5 = plt.subplot(gs[2, 1])\n",
    "    ax5.matshow(read_weights[:n_shown_mem_loc])\n",
    "    ax5.text(0, 42, r'Time $\\longrightarrow$', size=14)\n",
    "    ax5.set_title('Read Weightings', y=-0.2)\n",
    "    ax5.axis('off')\n",
    "\n",
    "    plt.savefig('read_write_memory.png')\n",
    "    plt.show()"
   ]
  },
  {
   "cell_type": "code",
   "execution_count": 188,
   "metadata": {},
   "outputs": [
    {
     "data": {
      "text/plain": [
       "<matplotlib.figure.Figure at 0x13f7a1b90>"
      ]
     },
     "metadata": {},
     "output_type": "display_data"
    },
    {
     "data": {
      "image/png": "[encoded data removed]",
      "text/plain": [
       "<matplotlib.figure.Figure at 0x13f7a1dd0>"
      ]
     },
     "metadata": {},
     "output_type": "display_data"
    }
   ],
   "source": [
    "with open('lstm_ntm.pt') as f:\n",
    "    lstm_ntm = \n",
    "\n",
    "visualise_read_write(lstm_ntm)"
   ]
  },
  {
   "cell_type": "code",
   "execution_count": 189,
   "metadata": {},
   "outputs": [
    {
     "data": {
      "text/plain": [
       "<matplotlib.figure.Figure at 0x140fcc290>"
      ]
     },
     "metadata": {},
     "output_type": "display_data"
    },
    {
     "data": {
      "image/png": "[encoded data removed]",
      "text/plain": [
       "<matplotlib.figure.Figure at 0x140fcc810>"
      ]
     },
     "metadata": {},
     "output_type": "display_data"
    }
   ],
   "source": [
    "visualise_read_write(lstm_ntm_NOBCEWLL)"
   ]
  },
  {
   "cell_type": "code",
   "execution_count": 192,
   "metadata": {},
   "outputs": [
    {
     "data": {
      "text/plain": [
       "<matplotlib.figure.Figure at 0x116a31450>"
      ]
     },
     "metadata": {},
     "output_type": "display_data"
    },
    {
     "data": {
      "image/png": "[encoded data removed]",
      "text/plain": [
       "<matplotlib.figure.Figure at 0x11a08a410>"
      ]
     },
     "metadata": {},
     "output_type": "display_data"
    }
   ],
   "source": [
    "visualise_read_write(ffnn_ntm)"
   ]
  },
  {
   "cell_type": "markdown",
   "metadata": {
    "colab_type": "text",
    "id": "jQ93X_r8gSVa"
   },
   "source": [
    "#### (e) Understanding the shift operator"
   ]
  },
  {
   "cell_type": "markdown",
   "metadata": {
    "colab_type": "text",
    "id": "7EmXeuuqgSVb"
   },
   "source": [
    "Discuss the relationship between the shift operator and convolutions.\n",
    "\n",
    "The purpose of this question is to ensure that students understand the code that they are working with. Modify the code-base so that the shift operator only allows forward shifts. In your answer, show the snippet of code before and after the modification."
   ]
  },
  {
   "cell_type": "markdown",
   "metadata": {
    "colab_type": "text",
    "id": "BrZbIRN1Y1la"
   },
   "source": [
    "\n",
    "---\n",
    "\n",
    "**Description of the shift operator**\n",
    "\n",
    "The shift operator is a vector which lenght is an odd number, higher or egal to 3.\n",
    "\n",
    "The goal is to move another vector's items one way or another by convolution.\n",
    "\n",
    "Let's consider the specific case where the shift operator is compose of all 0's except for one 1. Same theory apply with less specific values, except everything is more blurry.\n",
    "\n",
    "If the one is in the middle, no shift is operated.\n",
    "\n",
    "If the 1 is on the left (right) side, you move every items in the vector left (right) by as many position as the 1 is away from the middle. \n",
    "\n",
    "Consider the following examples. If a shift operator is [1,0,0], this would involve that all the elements in the vector to move left by one step. If the shift operator is [0,0,0,0,1], move all elements right by two steps.\n",
    "\n",
    "More specifically, if we convolve the shit operator [1,0,0,0,0] over the vector [0,1,2,3,4,5,6,7,8,9], the result would be [2,3,4,5,6,7,8,9,0,1].\n",
    "\n",
    "\n",
    "\n",
    "**How do we change it to allow only forward shifts?**\n",
    "\n",
    "Since we are using the function *conv1d* from PyTorch and sonce it includes a *kernel flip*, directions are *inverted*. So, [0,0,0,0,1], moves left by two steps.\n",
    "\n",
    "If we want to change to allow only forward shifts, in our case, it means allowing only numbers in the first half of the shift operator, the right side has to be all 0s. \n",
    "\n",
    "This is made by reducing the size of the output layer of the shift operator by half. \n",
    "\n",
    "So we would change the line:\n",
    "\n",
    "<br/>\n",
    "&nbsp;&nbsp;&nbsp;&nbsp;&nbsp;&nbsp;self.fc_shift = nn.Linear(hidden_size, 2 * shift_range + 1)\n",
    "   \n",
    "&nbsp;&nbsp;&nbsp;&nbsp;&nbsp;&nbsp;to\n",
    "\n",
    "&nbsp;&nbsp;&nbsp;&nbsp;&nbsp;&nbsp;self.fc_shift = nn.Linear(hidden_size, shift_range + 1)\n",
    "  \n",
    "<br/>\n",
    "Taking the Softmax on this reduced vector and concatenating it with 0s on the right side would accomplish what we want. Specifically, we change the following line:\n",
    "\n",
    "<br/>\n",
    "&nbsp;&nbsp;&nbsp;&nbsp;&nbsp;&nbsp;self.shift = F.softmax(self.fc_shift(x), 1)  \n",
    "  \n",
    "&nbsp;&nbsp;&nbsp;&nbsp;&nbsp;&nbsp;to \n",
    "\n",
    "&nbsp;&nbsp;&nbsp;&nbsp;&nbsp;&nbsp;self.shift = torch.cat(F.softmax(self.fc_shift(x), 1), torch.zeros(shift_range))\n",
    "\n"
   ]
  },
  {
   "cell_type": "code",
   "execution_count": 144,
   "metadata": {
    "colab": {
     "autoexec": {
      "startup": false,
      "wait_interval": 0
     },
     "base_uri": "https://localhost:8080/",
     "height": 283,
     "output_extras": [
      {
       "item_id": 3
      }
     ]
    },
    "colab_type": "code",
    "executionInfo": {
     "elapsed": 2545,
     "status": "ok",
     "timestamp": 1522267626005,
     "user": {
      "displayName": "Patrice Béchard",
      "photoUrl": "//lh3.googleusercontent.com/-bL5zJjq50s8/AAAAAAAAAAI/AAAAAAAAJg4/tTYa0EKiWok/s50-c-k-no/photo.jpg",
      "userId": "107700311785587995610"
     },
     "user_tz": 240
    },
    "id": "BV3zc2mTgSVe",
    "outputId": "5812e475-1ae7-413f-be89-5da6a3ac8027"
   },
   "outputs": [
    {
     "name": "stdout",
     "output_type": "stream",
     "text": [
      "\u001b[?1h\u001b=\u001b[H\u001b[2J\u001b[mtop - 20:07:04 up  7:01,  0 users,  load average: 0.07, 0.03, 0.00\u001b[m\u001b[m\u001b[m\u001b[m\u001b[K\n",
      "Tasks:\u001b[m\u001b[m\u001b[1m   7 \u001b[m\u001b[mtotal,\u001b[m\u001b[m\u001b[1m   1 \u001b[m\u001b[mrunning,\u001b[m\u001b[m\u001b[1m   6 \u001b[m\u001b[msleeping,\u001b[m\u001b[m\u001b[1m   0 \u001b[m\u001b[mstopped,\u001b[m\u001b[m\u001b[1m   0 \u001b[m\u001b[mzombie\u001b[m\u001b[m\u001b[m\u001b[m\u001b[K\n",
      "%Cpu(s):\u001b[m\u001b[m\u001b[1m 17.4 \u001b[m\u001b[mus,\u001b[m\u001b[m\u001b[1m  6.7 \u001b[m\u001b[msy,\u001b[m\u001b[m\u001b[1m  0.0 \u001b[m\u001b[mni,\u001b[m\u001b[m\u001b[1m 75.8 \u001b[m\u001b[mid,\u001b[m\u001b[m\u001b[1m  0.1 \u001b[m\u001b[mwa,\u001b[m\u001b[m\u001b[1m  0.0 \u001b[m\u001b[mhi,\u001b[m\u001b[m\u001b[1m  0.0 \u001b[m\u001b[msi,\u001b[m\u001b[m\u001b[1m  0.0 \u001b[m\u001b[mst\u001b[m\u001b[m\u001b[m\u001b[m\u001b[K\n",
      "KiB Mem :\u001b[m\u001b[m\u001b[1m 13341832 \u001b[m\u001b[mtotal,\u001b[m\u001b[m\u001b[1m   808592 \u001b[m\u001b[mfree,\u001b[m\u001b[m\u001b[1m  1934956 \u001b[m\u001b[mused,\u001b[m\u001b[m\u001b[1m 10598284 \u001b[m\u001b[mbuff/cache\u001b[m\u001b[m\u001b[m\u001b[m\u001b[K\n",
      "KiB Swap:\u001b[m\u001b[m\u001b[1m        0 \u001b[m\u001b[mtotal,\u001b[m\u001b[m\u001b[1m        0 \u001b[m\u001b[mfree,\u001b[m\u001b[m\u001b[1m        0 \u001b[m\u001b[mused.\u001b[m\u001b[m\u001b[1m 10921472 \u001b[m\u001b[mavail Mem \u001b[m\u001b[m\u001b[m\u001b[m\u001b[K\n",
      "\u001b[K\n",
      "\u001b[7m  PID USER      PR  NI    VIRT    RES    SHR S  %CPU %MEM     TIME+ COMMAND     \u001b[m\u001b[m\u001b[K\n",
      "\u001b[m    1 root      20   0   39148   6580   5200 S   0.0  0.0   0:00.08 run.sh      \u001b[m\u001b[m\u001b[K\n",
      "\u001b[m   70 root      20   0  678300  39368  21776 S   0.0  0.3   0:02.72 node        \u001b[m\u001b[m\u001b[K\n",
      "\u001b[m   80 root      20   0  713736  64972  22896 S   0.0  0.5   0:24.51 node        \u001b[m\u001b[m\u001b[K\n",
      "\u001b[m   90 root      20   0  181896  56936  12320 S   0.0  0.4   0:13.21 jupyter-no+ \u001b[m\u001b[m\u001b[K\n",
      "\u001b[m  146 root      20   0 39.268g 1.795g 353676 S   0.0 14.1 109:27.87 python      \u001b[m\u001b[m\u001b[K\n",
      "\u001b[m  170 root      20   0   33964   4836   3736 S   0.0  0.0   0:01.04 sh          \u001b[m\u001b[m\u001b[K\n",
      "\u001b[m\u001b[1m  171 root      20   0   65360   6996   5244 R   0.0  0.1   0:00.00 top         \u001b[m\u001b[m\u001b[K\n",
      "\u001b[J\u001b[?1l\u001b>\u001b[25;1H\n",
      "\u001b[K"
     ]
    }
   ],
   "source": [
    "!top"
   ]
  },
  {
   "cell_type": "code",
   "execution_count": null,
   "metadata": {
    "colab": {
     "autoexec": {
      "startup": false,
      "wait_interval": 0
     }
    },
    "colab_type": "code",
    "collapsed": true,
    "id": "JDDzalc0OG48"
   },
   "outputs": [],
   "source": [
    "!kill 146"
   ]
  },
  {
   "cell_type": "code",
   "execution_count": null,
   "metadata": {
    "colab": {
     "autoexec": {
      "startup": false,
      "wait_interval": 0
     }
    },
    "colab_type": "code",
    "collapsed": true,
    "id": "VZKSkumBOOo4"
   },
   "outputs": [],
   "source": []
  }
 ],
 "metadata": {
  "colab": {
   "collapsed_sections": [],
   "default_view": {},
   "name": "NTM.ipynb",
   "provenance": [],
   "toc_visible": true,
   "version": "0.3.2",
   "views": {}
  },
  "kernelspec": {
   "display_name": "Python 2",
   "language": "python",
   "name": "python2"
  },
  "language_info": {
   "codemirror_mode": {
    "name": "ipython",
    "version": 2
   },
   "file_extension": ".py",
   "mimetype": "text/x-python",
   "name": "python",
   "nbconvert_exporter": "python",
   "pygments_lexer": "ipython2",
   "version": "2.7.13"
  }
 },
 "nbformat": 4,
 "nbformat_minor": 2
}
