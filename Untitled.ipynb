{
 "cells": [
  {
   "cell_type": "code",
   "execution_count": 11,
   "metadata": {},
   "outputs": [],
   "source": [
    "from model import NTM\n",
    "from utils import device"
   ]
  },
  {
   "cell_type": "code",
   "execution_count": 28,
   "metadata": {},
   "outputs": [],
   "source": [
    "def show_generalization(model):\n",
    "    \n",
    "    # showing models results on inputs of size 10, 20, 30, 50, 120\n",
    "    \n",
    "    sequence_lengths = [10, 20, 30, 50, 120]\n",
    "    \n",
    "    inputs = []\n",
    "    outputs = []\n",
    "    \n",
    "    for i, seq_len in enumerate(sequence_lengths):\n",
    "        \n",
    "        input, _ = generate_input_example(sequence_length=seq_len)\n",
    "        inputs.append(input[:seq_len])\n",
    "        \n",
    "        outputs.append(model(input.to(device)).to('cpu')[seq_len+1:])\n",
    "\n",
    "\n",
    "    # creating plot similar to figure 4 from Graves et. al. 2014\n",
    "    \n",
    "    fig = plt.figure(figsize=(20, 4))\n",
    "    \n",
    "    gs1 = gridspec.GridSpec(4, 11)\n",
    "    gs1.update(left=0.05, right=0.48, wspace=0.33)\n",
    "\n",
    "    # targets for 10, 20, 30, 50\n",
    "    ax1 = plt.subplot(gs1[0, 0:1])\n",
    "    ax1.matshow(inputs[0].data.squeeze().cpu().numpy().T)\n",
    "    ax1.axis('off')\n",
    "    ax2 = plt.subplot(gs1[0, 1:3])\n",
    "    ax2.matshow(inputs[1].data.squeeze().cpu().numpy().T)\n",
    "    ax2.axis('off')\n",
    "    ax3 = plt.subplot(gs1[0, 3:6])\n",
    "    ax3.matshow(inputs[2].data.squeeze().cpu().numpy().T)\n",
    "    ax3.axis('off')\n",
    "    ax4 = plt.subplot(gs1[0, 6:11])\n",
    "    ax4.matshow(inputs[3].data.squeeze().cpu().numpy().T)\n",
    "    ax4.axis('off')\n",
    "    \n",
    "    # outputs for 10, 20, 30, 50\n",
    "    ax5 = plt.subplot(gs1[1, 0:1])\n",
    "    ax5.matshow(outputs[0].data.squeeze().cpu().numpy().T)\n",
    "    ax5.axis('off')\n",
    "    ax6 = plt.subplot(gs1[1, 1:3])\n",
    "    ax6.matshow(outputs[1].data.squeeze().cpu().numpy().T)\n",
    "    ax6.axis('off')\n",
    "    ax7 = plt.subplot(gs1[1, 3:6])\n",
    "    ax7.matshow(outputs[2].data.squeeze().cpu().numpy().T)\n",
    "    ax7.axis('off')\n",
    "    ax8 = plt.subplot(gs1[1, 6:11])\n",
    "    ax8.matshow(outputs[3].data.squeeze().cpu().numpy().T)\n",
    "    ax8.axis('off')\n",
    "    \n",
    "    # targets and outputs for 120\n",
    "    ax9 = plt.subplot(gs1[2, 0:11])\n",
    "    ax9.matshow(inputs[4].data.squeeze().cpu().numpy().T)\n",
    "    ax9.axis('off')\n",
    "    ax10 = plt.subplot(gs1[3, 0:11])\n",
    "    ax10.matshow(outputs[4].data.squeeze().cpu().numpy().T)\n",
    "    ax10.axis('off')\n",
    "    \n",
    "    \n",
    "    ax1.text(-15, 4.5, 'Targets', size=14)\n",
    "    ax5.text(-15, 4.5, 'Outputs', size=14)\n",
    "    ax9.text(-13, 4.5, 'Targets', size=14)\n",
    "    ax10.text(-13, 4.5, 'Outputs', size=14)\n",
    "    ax10.text(0, 12, r'Time $\\longrightarrow$', size=14)\n",
    "\n",
    "\n",
    "    plt.show()"
   ]
  },
  {
   "cell_type": "code",
   "execution_count": 29,
   "metadata": {},
   "outputs": [
    {
     "data": {
      "image/png": "[encoded data removed]",
      "text/plain": [
       "<matplotlib.figure.Figure at 0x7f46d3d26f28>"
      ]
     },
     "metadata": {},
     "output_type": "display_data"
    }
   ],
   "source": [
    "model = NTM('lstm').to(device)\n",
    "\n",
    "show_generalization(model)"
   ]
  },
  {
   "cell_type": "code",
   "execution_count": null,
   "metadata": {},
   "outputs": [],
   "source": []
  }
 ],
 "metadata": {
  "kernelspec": {
   "display_name": "Python 3",
   "language": "python",
   "name": "python3"
  },
  "language_info": {
   "codemirror_mode": {
    "name": "ipython",
    "version": 3
   },
   "file_extension": ".py",
   "mimetype": "text/x-python",
   "name": "python",
   "nbconvert_exporter": "python",
   "pygments_lexer": "ipython3",
   "version": "3.6.4"
  }
 },
 "nbformat": 4,
 "nbformat_minor": 2
}
