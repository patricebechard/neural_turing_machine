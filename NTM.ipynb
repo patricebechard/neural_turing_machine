{
 "cells": [
  {
   "cell_type": "markdown",
   "metadata": {},
   "source": [
    "# Neural Turing Machine\n",
    "\n",
    "##### Patrice Béchard, Orlando Marquez, Nicholas Vachon\n",
    "\n",
    "This is a PyTorch implementation of the Neural Turing Machine, a memory augmented RNN with attention proposed by [Graves *et al* (2014)](https://arxiv.org/pdf/1410.5401.pdf). We only train the model on the *Copy* task presented in the paper.\n"
   ]
  },
  {
   "cell_type": "code",
   "execution_count": 1,
   "metadata": {},
   "outputs": [],
   "source": [
    "from model import NTM, Vanilla_LSTM\n",
    "from train import train\n",
    "from utils import *\n",
    "\n",
    "import matplotlib.pyplot as plt"
   ]
  },
  {
   "cell_type": "markdown",
   "metadata": {},
   "source": [
    "### Setting"
   ]
  },
  {
   "cell_type": "markdown",
   "metadata": {},
   "source": [
    "* RNNs (folded and unfolded)\n",
    "* Attention mechanism (Seq2Seq example)\n",
    "* External memory bank and motivation\n",
    "* Turing Machine"
   ]
  },
  {
   "cell_type": "markdown",
   "metadata": {},
   "source": [
    "### The Model"
   ]
  },
  {
   "cell_type": "markdown",
   "metadata": {},
   "source": [
    "* Neural Turing Machine (folded and unfolded)\n",
    "\n",
    "<img src=\"https://rylanschaeffer.github.io/content/research/neural_turing_machine/ntm_architecture.png\" alt=\"drawing\" width=\"700\"/>\n",
    "\n",
    "<img src=\"https://distill.pub/2016/augmented-rnns/assets/rnn_memory.svg\" alt=\"drawing\" width=\"1000\"/>"
   ]
  },
  {
   "cell_type": "code",
   "execution_count": 2,
   "metadata": {},
   "outputs": [],
   "source": [
    "lstm_ntm = NTM('lstm').to(device)\n",
    "ffnn_ntm = NTM('ffnn').to(device)\n",
    "lstm = Vanilla_LSTM().to(device)"
   ]
  },
  {
   "cell_type": "markdown",
   "metadata": {},
   "source": [
    "### The Task"
   ]
  },
  {
   "cell_type": "code",
   "execution_count": null,
   "metadata": {},
   "outputs": [],
   "source": []
  },
  {
   "cell_type": "markdown",
   "metadata": {},
   "source": [
    "### Going further\n",
    "\n",
    "\n",
    "https://rylanschaeffer.github.io/content/research/neural_turing_machine/main.html\n",
    "    \n",
    "https://distill.pub/2016/augmented-rnns/\n",
    "    \n",
    "https://arxiv.org/pdf/1410.5401.pdf"
   ]
  },
  {
   "cell_type": "code",
   "execution_count": null,
   "metadata": {},
   "outputs": [],
   "source": []
  }
 ],
 "metadata": {
  "kernelspec": {
   "display_name": "Python 3",
   "language": "python",
   "name": "python3"
  },
  "language_info": {
   "codemirror_mode": {
    "name": "ipython",
    "version": 3
   },
   "file_extension": ".py",
   "mimetype": "text/x-python",
   "name": "python",
   "nbconvert_exporter": "python",
   "pygments_lexer": "ipython3",
   "version": "3.6.2"
  }
 },
 "nbformat": 4,
 "nbformat_minor": 2
}
